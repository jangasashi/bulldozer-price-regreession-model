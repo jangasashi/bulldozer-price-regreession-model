{
 "cells": [
  {
   "cell_type": "markdown",
   "metadata": {},
   "source": [
    "<a target=\"_blank\" href=\"https://colab.research.google.com/github/mrdbourke/zero-to-mastery-ml/blob/master/section-3-structured-data-projects/end-to-end-bluebook-bulldozer-price-regression-v2.ipynb\">\n",
    "  <img src=\"https://colab.research.google.com/assets/colab-badge.svg\" alt=\"Open In Colab\"/>\n",
    "</a>\n",
    "\n",
    "[View source code](https://github.com/mrdbourke/zero-to-mastery-ml/blob/master/section-3-structured-data-projects/end-to-end-bluebook-bulldozer-price-regression-v2.ipynb) | [Read notebook in online book format](https://dev.mrdbourke.com/zero-to-mastery-ml/end-to-end-bluebook-bulldozer-price-regression-v2/)"
   ]
  },
  {
   "cell_type": "markdown",
   "metadata": {},
   "source": [
    "# Predicting the Sale Price of Bulldozers using Machine Learning 🚜 \n",
    "\n",
    "In this notebook, we're going to go through an example machine learning project to use the characteristics of bulldozers and their past sales prices to predict the sale price of future bulldozers based on their characteristics.\n",
    "\n",
    "* **Inputs:** Bulldozer characteristics such as make year, base model, model series, state of sale (e.g. which US state was it sold in), drive system and more.\n",
    "* **Outputs:** Bulldozer sale price (in USD).\n",
    "\n",
    "Since we're trying to predict a number, this kind of problem is known as a **regression problem**.\n",
    "\n",
    "And since we're going to predicting results with a time component (predicting future sales based on past sales), this is also known as a **time series** or **forecasting** problem.\n",
    "\n",
    "The data and evaluation metric we'll be using (root mean square log error or RMSLE) is from the [Kaggle Bluebook for Bulldozers competition](https://www.kaggle.com/c/bluebook-for-bulldozers/overview).\n",
    "\n",
    "The techniques used in here have been inspired and adapted from [the fast.ai machine learning course](https://course18.fast.ai/ml)."
   ]
  },
  {
   "cell_type": "markdown",
   "metadata": {},
   "source": [
    "## Overview\n",
    "\n",
    "Since we already have a dataset, we'll approach the problem with the following machine learning modelling framework.\n",
    "\n",
    "| <img src=\"https://github.com/mrdbourke/zero-to-mastery-ml/blob/master/images/supervised-projects-6-step-ml-framework-tools-highlight.png?raw=true\" width=750/> | \n",
    "|:--:| \n",
    "| 6 Step Machine Learning Modelling Framework ([read more](https://whimsical.com/9g65jgoRYTxMXxDosndYTB)) |\n",
    "\n",
    "To work through these topics, we'll use pandas, Matplotlib and NumPy for data analysis, as well as, Scikit-Learn for machine learning and modelling tasks.\n",
    "\n",
    "| <img src=\"https://github.com/mrdbourke/zero-to-mastery-ml/blob/master/images/supervised-projects-6-step-ml-framework-tools-highlight.png?raw=true\" width=750/> | \n",
    "|:--:| \n",
    "| Tools that can be used for each step of the machine learning modelling process. |\n",
    "\n",
    "We'll work through each step and by the end of the notebook, we'll have a trained machine learning model which predicts the sale price of a bulldozer given different characteristics about it."
   ]
  },
  {
   "cell_type": "markdown",
   "metadata": {},
   "source": [
    "### 6 Step Machine Learning Framework\n",
    "\n",
    "#### 1. Problem Definition\n",
    "\n",
    "For this dataset, the problem we're trying to solve, or better, the question we're trying to answer is,\n",
    "\n",
    "> How well can we predict the future sale price of a bulldozer, given its characteristics previous examples of how much similar bulldozers have been sold for?"
   ]
  },
  {
   "cell_type": "markdown",
   "metadata": {},
   "source": [
    "#### 2. Data\n",
    "\n",
    "Looking at the [dataset from Kaggle](https://www.kaggle.com/c/bluebook-for-bulldozers/data) we see that it contains historical sales data of bulldozers. Including things like, model type, size, sale date and more.\n",
    "\n",
    "There are 3 datasets:\n",
    "\n",
    "1. **Train.csv** - Historical bulldozer sales examples up to 2011 (close to 400,000 examples with 50+ different attributes, including `SalePrice` which is the **target variable**).\n",
    "2. **Valid.csv** - Historical bulldozer sales examples from January 1 2012 to April 30 2012 (close to 12,000 examples with the same attributes as **Train.csv**).\n",
    "3. **Test.csv** - Historical bulldozer sales examples from May 1 2012 to November 2012 (close to 12,000 examples but missing the `SalePrice` attribute, as this is what we'll be trying to predict).\n",
    "\n",
    "> **Note:** You can download the dataset `bluebook-for-bulldozers` dataset directly from Kaggle. Alternatively, you can also [download it directly from the course GitHub](https://github.com/mrdbourke/zero-to-mastery-ml/raw/refs/heads/master/data/bluebook-for-bulldozers.zip)."
   ]
  },
  {
   "cell_type": "markdown",
   "metadata": {},
   "source": [
    "#### 3. Evaluation\n",
    "\n",
    "For this problem, [Kaggle has set the evaluation metric to being root mean squared log error (RMSLE)](https://www.kaggle.com/c/bluebook-for-bulldozers/overview/evaluation). As with many regression evaluations, the goal will be to get this value as low as possible (a low error value means our model's predictions are close to what the real values are).\n",
    "\n",
    "To see how well our model is doing, we'll calculate the RMSLE and then compare our results to others on the [Kaggle leaderboard](https://www.kaggle.com/c/bluebook-for-bulldozers/leaderboard)."
   ]
  },
  {
   "cell_type": "markdown",
   "metadata": {},
   "source": [
    "#### 4. Features\n",
    "\n",
    "Features are different parts and attributes of the data. \n",
    "\n",
    "During this step, you'll want to start finding out what you can about the data.\n",
    "\n",
    "One of the most common ways to do this is to create a **data dictionary**.\n",
    "\n",
    "For this dataset, Kaggle provides a data dictionary which contains information about what each attribute of the dataset means. \n",
    "\n",
    "For example: \n",
    "\n",
    "| Variable Name | Description  | Variable Type |\n",
    "|------|-----|-----|\n",
    "| SalesID   | unique identifier of a particular sale of a machine at auction  | Independent  variable |\n",
    "| MachineID  | identifier for a particular machine; machines may have multiple sales  | Independent  variable |\n",
    "| ModelID | identifier for a unique machine model (i.e. fiModelDesc) | Independent  variable |\n",
    "| datasource  | source of the sale record; some sources are more diligent about reporting attributes of the machine than others. Note that a particular datasource may report on multiple auctioneerIDs. | Independent  variable |\n",
    "| auctioneerID  | identifier of a particular auctioneer, i.e. company that sold the machine at auction. Not the same as datasource.  | Independent  variable |\n",
    "| YearMade  | year of manufacturer of the Machine  | Independent  variable |\n",
    "| MachineHoursCurrentMeter | current usage of the machine in hours at time of sale (saledate); null or 0 means no hours have been reported for that sale | Independent  variable |\n",
    "| UsageBand | value (low, medium, high) calculated comparing this particular Machine-Sale hours to average usage for the fiBaseModel; e.g. 'Low' means this machine has fewer hours given its lifespan relative to the average of fiBaseModel. | Independent  variable |\n",
    "| Saledate   | time of sale | Independent  variable |\n",
    "| fiModelDesc  | Description of a unique machine model (see ModelID); concatenation of fiBaseModel & fiSecondaryDesc & fiModelSeries & fiModelDescriptor  | Independent  variable |\n",
    "| State | US State in which sale occurred | Independent  variable |\n",
    "| Drive_System | machine configuration; typically describes whether 2 or 4 wheel drive  | Independent  variable |\n",
    "| Enclosure  | machine configuration - does the machine have an enclosed cab or not | Independent  variable |\n",
    "| Forks  | machine configuration - attachment used for lifting  | Independent  variable |\n",
    "| Pad_Type | machine configuration - type of treads a crawler machine uses | Independent  variable |\n",
    "| Ride_Control  | machine configuration - optional feature on loaders to make the ride smoother | Independent  variable |\n",
    "| Transmission | machine configuration - describes type of transmission; typically automatic or manual | Independent  variable |\n",
    "| ... | ... | ... |\n",
    "| SalePrice | cost of sale in USD | Target/dependent variable | \n",
    "\n",
    "You can download the full version of this file directly from the [Kaggle competition page](https://www.kaggle.com/c/bluebook-for-bulldozers/download/Bnl6RAHA0enbg0UfAvGA%2Fversions%2FwBG4f35Q8mAbfkzwCeZn%2Ffiles%2FData%20Dictionary.xlsx) (Kaggle account required) or view it [on Google Sheets](https://docs.google.com/spreadsheets/d/18ly-bLR8sbDJLITkWG7ozKm8l3RyieQ2Fpgix-beSYI/edit?usp=sharing).\n",
    "\n",
    "With all of this being known, let's get started! \n",
    "\n",
    "First, we'll import the dataset and start exploring. "
   ]
  },
  {
   "cell_type": "code",
   "execution_count": 6,
   "metadata": {},
   "outputs": [
    {
     "name": "stdout",
     "output_type": "stream",
     "text": [
      "Notebook last run (end-to-end): 2025-07-12 19:13:38.216319\n"
     ]
    }
   ],
   "source": [
    "# Timestamp\n",
    "import datetime\n",
    "\n",
    "import datetime\n",
    "print(f\"Notebook last run (end-to-end): {datetime.datetime.now()}\")"
   ]
  },
  {
   "cell_type": "markdown",
   "metadata": {},
   "source": [
    "## 1. Importing the data and preparing it for modelling\n",
    "\n",
    "First thing is first, let's get the libraries we need imported and the data we'll need for the project.\n",
    "\n",
    "We'll start by importing pandas, NumPy and matplotlib."
   ]
  },
  {
   "cell_type": "code",
   "execution_count": 7,
   "metadata": {},
   "outputs": [
    {
     "name": "stdout",
     "output_type": "stream",
     "text": [
      "pandas version: 2.2.3\n",
      "NumPy version: 2.2.0\n",
      "matplotlib version: 3.10.0\n"
     ]
    }
   ],
   "source": [
    "# Import data analysis tools \n",
    "import pandas as pd\n",
    "import numpy as np\n",
    "import matplotlib\n",
    "import matplotlib.pyplot as plt\n",
    "\n",
    "# Print the versions we're using (as long as your versions are equal or higher than these, the code should work)\n",
    "print(f\"pandas version: {pd.__version__}\")\n",
    "print(f\"NumPy version: {np.__version__}\")\n",
    "print(f\"matplotlib version: {matplotlib.__version__}\") "
   ]
  },
  {
   "cell_type": "markdown",
   "metadata": {},
   "source": [
    "Now we've got our tools for data analysis ready, we can import the data and start to explore it.\n",
    "\n",
    "For this project, I've [downloaded the data from Kaggle](https://www.kaggle.com/c/bluebook-for-bulldozers/data) and stored it on the [course GitHub](https://github.com/mrdbourke/zero-to-mastery-ml/) under the file path [`../data/bluebook-for-bulldozers`](https://github.com/mrdbourke/zero-to-mastery-ml/blob/master/data/bluebook-for-bulldozers.zip).\n",
    "\n",
    "We can write some code to check if the files are available locally (on our computer) and if not, we can download them.\n",
    "\n",
    "> **Note:** If you're running this notebook on Google Colab, the code below will enable you to download the dataset programmatically. Just beware that each time Google Colab shuts down, the data will have to be redownloaded. There's also an [example Google Colab notebook](https://colab.research.google.com/drive/1hf1rTcCAQP1EN8pZ0ZIqjjEy47dwzbiv?usp=sharing) showing how to download the data programmatically."
   ]
  },
  {
   "cell_type": "code",
   "execution_count": 8,
   "metadata": {},
   "outputs": [
    {
     "name": "stdout",
     "output_type": "stream",
     "text": [
      "[INFO] Can't find existing 'bluebook-for-bulldozers' dataset in current directory or parent directory, downloading...\n"
     ]
    },
    {
     "name": "stderr",
     "output_type": "stream",
     "text": [
      "'wget' is not recognized as an internal or external command,\n",
      "operable program or batch file.\n",
      "'unzip' is not recognized as an internal or external command,\n",
      "operable program or batch file.\n",
      "The syntax of the command is incorrect.\n"
     ]
    },
    {
     "name": "stdout",
     "output_type": "stream",
     "text": [
      "[INFO] Current dataset dir: ..\\data\\bluebook-for-bulldozers\n"
     ]
    },
    {
     "name": "stderr",
     "output_type": "stream",
     "text": [
      "'mv' is not recognized as an internal or external command,\n",
      "operable program or batch file.\n",
      "'rm' is not recognized as an internal or external command,\n",
      "operable program or batch file.\n"
     ]
    }
   ],
   "source": [
    "from pathlib import Path\n",
    "\n",
    "# Check if 'bluebook-for-bulldozers' exists in the current or parent directory\n",
    "# Link to data (see the file \"bluebook-for-bulldozers\"): https://github.com/mrdbourke/zero-to-mastery-ml/tree/master/data\n",
    "dataset_dir = Path(\"../data/bluebook-for-bulldozers\")\n",
    "if not (dataset_dir.is_dir()):\n",
    "    print(f\"[INFO] Can't find existing 'bluebook-for-bulldozers' dataset in current directory or parent directory, downloading...\")\n",
    "\n",
    "    # Download and unzip the bluebook for bulldozers dataset\n",
    "    !wget https://github.com/mrdbourke/zero-to-mastery-ml/raw/refs/heads/master/data/bluebook-for-bulldozers.zip\n",
    "    !unzip bluebook-for-bulldozers.zip\n",
    "\n",
    "    # Ensure a data directory exists and move the downloaded dataset there\n",
    "    !mkdir ../data/\n",
    "    !mv bluebook-for-bulldozers ../data/\n",
    "    print(f\"[INFO] Current dataset dir: {dataset_dir}\")\n",
    "\n",
    "    # Remove .zip file from notebook directory\n",
    "    !rm -rf bluebook-for-bulldozers.zip\n",
    "else:\n",
    "    # If the target dataset directory exists, we don't need to download it\n",
    "    print(f\"[INFO] 'bluebook-for-bulldozers' dataset exists, feel free to proceed!\")\n",
    "    print(f\"[INFO] Current dataset dir: {dataset_dir}\")"
   ]
  },
  {
   "cell_type": "markdown",
   "metadata": {},
   "source": [
    "Dataset downloaded!\n",
    "\n",
    "Let's check what files are available."
   ]
  },
  {
   "cell_type": "code",
   "execution_count": 9,
   "metadata": {},
   "outputs": [
    {
     "name": "stdout",
     "output_type": "stream",
     "text": [
      "[INFO] Files/folders available in ..\\data\\bluebook-for-bulldozers:\n"
     ]
    },
    {
     "ename": "FileNotFoundError",
     "evalue": "[WinError 3] The system cannot find the path specified: '..\\\\data\\\\bluebook-for-bulldozers'",
     "output_type": "error",
     "traceback": [
      "\u001b[1;31m---------------------------------------------------------------------------\u001b[0m",
      "\u001b[1;31mFileNotFoundError\u001b[0m                         Traceback (most recent call last)",
      "Cell \u001b[1;32mIn[9], line 4\u001b[0m\n\u001b[0;32m      1\u001b[0m \u001b[38;5;28;01mimport\u001b[39;00m \u001b[38;5;21;01mos\u001b[39;00m\n\u001b[0;32m      3\u001b[0m \u001b[38;5;28mprint\u001b[39m(\u001b[38;5;124mf\u001b[39m\u001b[38;5;124m\"\u001b[39m\u001b[38;5;124m[INFO] Files/folders available in \u001b[39m\u001b[38;5;132;01m{\u001b[39;00mdataset_dir\u001b[38;5;132;01m}\u001b[39;00m\u001b[38;5;124m:\u001b[39m\u001b[38;5;124m\"\u001b[39m)\n\u001b[1;32m----> 4\u001b[0m \u001b[43mos\u001b[49m\u001b[38;5;241;43m.\u001b[39;49m\u001b[43mlistdir\u001b[49m\u001b[43m(\u001b[49m\u001b[43mdataset_dir\u001b[49m\u001b[43m)\u001b[49m\n",
      "\u001b[1;31mFileNotFoundError\u001b[0m: [WinError 3] The system cannot find the path specified: '..\\\\data\\\\bluebook-for-bulldozers'"
     ]
    }
   ],
   "source": [
    "import os\n",
    "\n",
    "print(f\"[INFO] Files/folders available in {dataset_dir}:\")\n",
    "os.listdir(dataset_dir)"
   ]
  },
  {
   "cell_type": "markdown",
   "metadata": {},
   "source": [
    "You can explore each of these files individually or read about them on the [Kaggle Competition page](https://www.kaggle.com/c/bluebook-for-bulldozers/data).\n",
    "\n",
    "For now, the main file we're interested in is `TrainAndValid.csv` (this is also a combination of `Train.csv` and `Valid.csv`), this is a combination of the training and validation datasets.\n",
    "\n",
    "* The training data (`Train.csv`) contains sale data from 1989 up to the end of 2011.\n",
    "* The validation data (`Valid.csv`) contains sale data from January 1, 2012 - April 30, 2012.\n",
    "* The test data (`Test.csv`) contains sale data from May 1, 2012 - November 2012.\n",
    "\n",
    "We'll use the training data to train our model to predict the sale price of bulldozers, we'll then validate its performance on the validation data to see if our model can be improved in any way. Finally, we'll evaluate our best model on the test dataset.\n",
    "\n",
    "But more on this later on.\n",
    "\n",
    "Let's import the `TrainAndValid.csv` file and turn it into a pandas DataFrame."
   ]
  },
  {
   "cell_type": "code",
   "execution_count": null,
   "metadata": {},
   "outputs": [],
   "source": [
    "# Import the training and validation set\n",
    "df = pd.read_csv(filepath_or_buffer=\"../data/bluebook-for-bulldozers/TrainAndValid.csv\")"
   ]
  },
  {
   "cell_type": "markdown",
   "metadata": {},
   "source": [
    "Wonderful! We've got our DataFrame ready to explore.\n",
    "\n",
    "You might see a warning appear in the form:\n",
    "\n",
    "`DtypeWarning: Columns (13,39,40,41) have mixed types. Specify dtype option on import or set low_memory=False. df = pd.read_csv(\"../data/bluebook-for-bulldozers/TrainAndValid.csv\")`\n",
    "\n",
    "This is just saying that some of our columns have multiple/mixed data types. For example, a column may contain strings but also contain integers. This is okay for now and can be addressed later on if necessary.\n",
    "\n",
    "How about we get some information about our DataFrame?\n"
   ]
  },
  {
   "cell_type": "code",
   "execution_count": null,
   "metadata": {},
   "outputs": [],
   "source": [
    "# Get info about DataFrame\n",
    "df.info()"
   ]
  },
  {
   "cell_type": "markdown",
   "metadata": {},
   "source": [
    "Woah! Over 400,000 entries!\n",
    "\n",
    "That's a much larger dataset than what we've worked with before.\n",
    "\n",
    "One thing you might have noticed is that the `saledate` column value is being treated as a Python object (it's okay if you didn't notice, these things take practice).\n",
    "\n",
    "When the `Dtype` is `object`, it's saying that it's a string.\n",
    "\n",
    "However, when we look at it...\n",
    "\n"
   ]
  },
  {
   "cell_type": "code",
   "execution_count": null,
   "metadata": {},
   "outputs": [],
   "source": [
    "df[\"saledate\"][:10]"
   ]
  },
  {
   "cell_type": "markdown",
   "metadata": {},
   "source": [
    "We can see that these `object`'s are in the form of dates.\n",
    "\n",
    "Since we're working on a **time series** problem (a machine learning problem with a time component), it's probably worth it to turn these strings into Python `datetime` objects.\n",
    "\n",
    "Before we do, let's try visualize our `saledate` column against our `SalePrice` column.\n",
    "\n",
    "To do so, we can create a scatter plot.\n",
    "\n",
    "And to prevent our plot from being too big, how about we visualize the first 1000 values?"
   ]
  },
  {
   "cell_type": "code",
   "execution_count": null,
   "metadata": {},
   "outputs": [],
   "source": [
    "fig, ax = plt.subplots()\n",
    "ax.scatter(x=df[\"saledate\"][:1000], # visualize the first 1000 values\n",
    "           y=df[\"SalePrice\"][:1000])\n",
    "ax.set_xlabel(\"Sale Date\")\n",
    "ax.set_ylabel(\"Sale Price ($)\");"
   ]
  },
  {
   "cell_type": "markdown",
   "metadata": {},
   "source": [
    "Hmm... looks like the x-axis is quite crowded.\n",
    "\n",
    "Maybe we can fix this by turning the `saledate` column into `datetime` format.\n",
    "\n",
    "Good news is that is looks like our `SalePrice` column is already in `float64` format so we can view its distribution directly from the DataFrame using a histogram plot."
   ]
  },
  {
   "cell_type": "code",
   "execution_count": null,
   "metadata": {},
   "outputs": [],
   "source": [
    "# View SalePrice distribution \n",
    "df.SalePrice.plot.hist(xlabel=\"Sale Price ($)\");"
   ]
  },
  {
   "cell_type": "markdown",
   "metadata": {},
   "source": [
    "### 1.1 Parsing dates\n",
    "\n",
    "When working with time series data, it's a good idea to make sure any date data is the format of a [datetime object](https://docs.python.org/3/library/datetime.html) (a Python data type which encodes specific information about dates).\n",
    "\n",
    "We can tell pandas which columns to read in as dates by setting the `parse_dates` parameter in [`pd.read_csv`](https://pandas.pydata.org/docs/reference/api/pandas.read_csv.html).\n",
    "\n",
    "Once we've imported our CSV with the `saledate` column parsed, we can view information about our DataFrame again with `df.info()`. "
   ]
  },
  {
   "cell_type": "code",
   "execution_count": null,
   "metadata": {},
   "outputs": [],
   "source": [
    "df = pd.read_csv(filepath_or_buffer=\"../data/bluebook-for-bulldozers/TrainAndValid.csv\",\n",
    "                 low_memory=False, # set low_memory=False to prevent mixed data types warning \n",
    "                 parse_dates=[\"saledate\"]) # can use the parse_dates parameter and specify which column to treat as a date column\n",
    "\n",
    "# With parse_dates... check dtype of \"saledate\"\n",
    "df.info()"
   ]
  },
  {
   "cell_type": "markdown",
   "metadata": {},
   "source": [
    "Nice!\n",
    "\n",
    "Looks like our `saledate` column is now of type [`datetime64[ns]`](https://numpy.org/doc/stable/reference/arrays.scalars.html#numpy.datetime64), a NumPy-specific datetime format with high precision.\n",
    "\n",
    "Since pandas works well with NumPy, we can keep it in this format.\n",
    "\n",
    "How about we view a few samples from our `SaleDate` column again?"
   ]
  },
  {
   "cell_type": "code",
   "execution_count": null,
   "metadata": {},
   "outputs": [],
   "source": [
    "df[\"saledate\"][:10]"
   ]
  },
  {
   "cell_type": "markdown",
   "metadata": {},
   "source": [
    "Beautiful! That's looking much better already. \n",
    "\n",
    "We'll see how having our dates in this format is really helpful later on.\n",
    "\n",
    "For now, how about we visualize our `saledate` column against our `SalePrice` column again?"
   ]
  },
  {
   "cell_type": "code",
   "execution_count": null,
   "metadata": {},
   "outputs": [],
   "source": [
    "fig, ax = plt.subplots()\n",
    "ax.scatter(x=df[\"saledate\"][:1000], # visualize the first 1000 values\n",
    "           y=df[\"SalePrice\"][:1000])\n",
    "ax.set_xlabel(\"Sale Date\")\n",
    "ax.set_ylabel(\"Sale Price ($)\");"
   ]
  },
  {
   "cell_type": "markdown",
   "metadata": {},
   "source": [
    "### 1.2 Sorting our DataFrame by saledate\n",
    "\n",
    "Now we've formatted our `saledate` column to be NumPy `datetime64[ns]` objects, we can use built-in pandas methods such as `sort_values` to sort our DataFrame by date.\n",
    "\n",
    "And considering this is a time series problem, sorting our DataFrame by date has the added benefit of making sure our data is sequential.\n",
    "\n",
    "In other words, we want to use examples from the past (example sale prices from previous dates) to try and predict future bulldozer sale prices. \n",
    "\n",
    "Let's use the [`pandas.DataFrame.sort_values`](https://pandas.pydata.org/docs/reference/api/pandas.DataFrame.sort_values.html) method to sort our DataFrame by `saledate` in ascending order."
   ]
  },
  {
   "cell_type": "code",
   "execution_count": null,
   "metadata": {},
   "outputs": [],
   "source": [
    "# Sort DataFrame in date order\n",
    "df.sort_values(by=[\"saledate\"], inplace=True, ascending=True)\n",
    "df.saledate.head(10), df.saledate.tail(10)"
   ]
  },
  {
   "cell_type": "markdown",
   "metadata": {},
   "source": [
    "Nice!\n",
    "\n",
    "Looks like our older samples are now coming first and the newer samples are towards the end of the DataFrame."
   ]
  },
  {
   "cell_type": "markdown",
   "metadata": {},
   "source": [
    "### 1.3 Adding extra features to our DataFrame\n",
    "\n",
    "One way to potentially increase the predictive power of our data is to enhance it with more features.\n",
    "\n",
    "This practice is known as [**feature engineering**](https://en.wikipedia.org/wiki/Feature_engineering), taking existing features and using them to create more/different features. \n",
    "\n",
    "There is no set in stone way to do feature engineering and often it takes quite a bit of practice/exploration/experimentation to figure out what might work and what won't.\n",
    "\n",
    "For now, we'll use our `saledate` column to add extra features such as:\n",
    "\n",
    "* Year of sale\n",
    "* Month of sale\n",
    "* Day of sale\n",
    "* Day of week sale (e.g. Monday = 1, Tuesday = 2)\n",
    "* Day of year sale (e.g. January 1st = 1, January 2nd = 2)\n",
    "\n",
    "Since we're going to be manipulating the data, we'll make a copy of the original DataFrame and perform our changes there.\n",
    "\n",
    "This will keep the original DataFrame in tact if we need it again."
   ]
  },
  {
   "cell_type": "code",
   "execution_count": null,
   "metadata": {},
   "outputs": [],
   "source": [
    "# Make a copy of the original DataFrame to perform edits on\n",
    "df_tmp = df.copy()"
   ]
  },
  {
   "cell_type": "markdown",
   "metadata": {},
   "source": [
    "Because we imported the data using `read_csv()` and we asked pandas to parse the dates using `parase_dates=[\"saledate\"]`, we can now access the [different datetime attributes](https://pandas.pydata.org/pandas-docs/stable/reference/api/pandas.DatetimeIndex.html) of the `saledate` column.\n",
    "\n",
    "Let's use these attributes to add a series of different feature columns to our dataset. \n",
    "\n",
    "After we've added these extra columns, we can remove the original `saledate` column as its information will be dispersed across these new columns."
   ]
  },
  {
   "cell_type": "code",
   "execution_count": null,
   "metadata": {},
   "outputs": [],
   "source": [
    "# Add datetime parameters for saledate\n",
    "df_tmp[\"saleYear\"] = df_tmp.saledate.dt.year\n",
    "df_tmp[\"saleMonth\"] = df_tmp.saledate.dt.month\n",
    "df_tmp[\"saleDay\"] = df_tmp.saledate.dt.day\n",
    "df_tmp[\"saleDayofweek\"] = df_tmp.saledate.dt.dayofweek\n",
    "df_tmp[\"saleDayofyear\"] = df_tmp.saledate.dt.dayofyear\n",
    "\n",
    "# Drop original saledate column\n",
    "df_tmp.drop(\"saledate\", axis=1, inplace=True)"
   ]
  },
  {
   "cell_type": "markdown",
   "metadata": {},
   "source": [
    "We could add more of these style of columns, such as, whether it was the start or end of a quarter (the sale being at the end of a quarter may bye influenced by things such as quarterly budgets) but these will do for now.\n",
    "\n",
    "> **Challenge:** See what other [datetime attributes](https://pandas.pydata.org/pandas-docs/stable/reference/api/pandas.DatetimeIndex.html) you can add to `df_tmp` using a similar technique to what we've used above. Hint: check the bottom of the [`pandas.DatetimeIndex` docs](https://pandas.pydata.org/docs/reference/api/pandas.DatetimeIndex.html).\n",
    "\n",
    "How about we view some of our newly created columns?"
   ]
  },
  {
   "cell_type": "code",
   "execution_count": null,
   "metadata": {},
   "outputs": [],
   "source": [
    "# View newly created columns\n",
    "df_tmp[[\"SalePrice\", \"saleYear\", \"saleMonth\", \"saleDay\", \"saleDayofweek\", \"saleDayofyear\"]].head()"
   ]
  },
  {
   "cell_type": "markdown",
   "metadata": {},
   "source": [
    "Cool!\n",
    "\n",
    "Now we've broken our `saledate` column into columns/features, we can perform further exploratory analysis such as visualizing the `SalePrice` against the `saleMonth`.\n",
    "\n",
    "How about we view the first 10,000 samples (we could also randomly select 10,000 samples too) to see if reveals anything about which month has the highest sales?"
   ]
  },
  {
   "cell_type": "code",
   "execution_count": null,
   "metadata": {},
   "outputs": [],
   "source": [
    "# View 10,000 samples SalePrice against saleMonth\n",
    "fig, ax = plt.subplots()\n",
    "ax.scatter(x=df_tmp[\"saleMonth\"][:10000], # visualize the first 10000 values\n",
    "           y=df_tmp[\"SalePrice\"][:10000])\n",
    "ax.set_xlabel(\"Sale Month\")\n",
    "ax.set_ylabel(\"Sale Price ($)\");"
   ]
  },
  {
   "cell_type": "markdown",
   "metadata": {},
   "source": [
    "Hmm... doesn't look like there's too much conclusive evidence here about which month has the highest sales value.\n",
    "\n",
    "How about we plot the median sale price of each month?\n",
    "\n",
    "We can do so by grouping on the `saleMonth` column with [`pandas.DataFrame.groupby`](https://pandas.pydata.org/docs/reference/api/pandas.DataFrame.groupby.html) and then getting the median of the `SalePrice` column."
   ]
  },
  {
   "cell_type": "code",
   "execution_count": null,
   "metadata": {},
   "outputs": [
    {
     "ename": "NameError",
     "evalue": "name 'df_tmp' is not defined",
     "output_type": "error",
     "traceback": [
      "\u001b[1;31m---------------------------------------------------------------------------\u001b[0m",
      "\u001b[1;31mNameError\u001b[0m                                 Traceback (most recent call last)",
      "Cell \u001b[1;32mIn[5], line 2\u001b[0m\n\u001b[0;32m      1\u001b[0m \u001b[38;5;66;03m# Group DataFrame by saleMonth and then find the median SalePrice\u001b[39;00m\n\u001b[1;32m----> 2\u001b[0m \u001b[43mdf_tmp\u001b[49m\u001b[38;5;241m.\u001b[39mgroupby([\u001b[38;5;124m\"\u001b[39m\u001b[38;5;124msaleMonth\u001b[39m\u001b[38;5;124m\"\u001b[39m])[\u001b[38;5;124m\"\u001b[39m\u001b[38;5;124mSalePrice\u001b[39m\u001b[38;5;124m\"\u001b[39m]\u001b[38;5;241m.\u001b[39mmedian()\u001b[38;5;241m.\u001b[39mplot()\n\u001b[0;32m      3\u001b[0m plt\u001b[38;5;241m.\u001b[39mxlabel(\u001b[38;5;124m\"\u001b[39m\u001b[38;5;124mMonth\u001b[39m\u001b[38;5;124m\"\u001b[39m)\n\u001b[0;32m      4\u001b[0m plt\u001b[38;5;241m.\u001b[39mylabel(\u001b[38;5;124m\"\u001b[39m\u001b[38;5;124mMedian Sale Price ($)\u001b[39m\u001b[38;5;124m\"\u001b[39m);\n",
      "\u001b[1;31mNameError\u001b[0m: name 'df_tmp' is not defined"
     ]
    }
   ],
   "source": [
    "# Group DataFrame by saleMonth and then find the median SalePrice\n",
    "df_tmp.groupby([\"saleMonth\"])[\"SalePrice\"].median().plot()\n",
    "plt.xlabel(\"Month\")\n",
    "plt.ylabel(\"Median Sale Price ($)\");"
   ]
  },
  {
   "cell_type": "markdown",
   "metadata": {},
   "source": [
    "Ohhh it looks like the median sale prices of January and February (months 1 and 2) are quite a bit higher than the other months of the year.\n",
    "\n",
    "Could this be because of New Year budget spending?\n",
    "\n",
    "Perhaps... but this would take a bit more investigation.\n",
    "\n",
    "In the meantime, there are many other values we could look further into."
   ]
  },
  {
   "cell_type": "markdown",
   "metadata": {},
   "source": [
    "### 1.4 Inspect values of other columns\n",
    "\n",
    "When first exploring a new problem, it's often a good idea to become as familiar with the data as you can.\n",
    "\n",
    "Of course, with a dataset that has over 400,000 samples, it's unlikely you'll ever get through every sample.\n",
    "\n",
    "But that's where the power of data analysis and machine learning can help.\n",
    "\n",
    "We can use pandas to aggregate thousands of samples into smaller more managable pieces.\n",
    "\n",
    "And as we'll see later on, we can use machine learning models to model the data and then later inspect which features the model thought were most important.\n",
    "\n",
    "How about we see which states sell the most bulldozers?"
   ]
  },
  {
   "cell_type": "code",
   "execution_count": null,
   "metadata": {},
   "outputs": [],
   "source": [
    "# Check the different values of different columns\n",
    "df_tmp.state.value_counts()[:10]"
   ]
  },
  {
   "cell_type": "markdown",
   "metadata": {},
   "source": [
    "Woah! Looks like Flordia sells a fair few bulldozers.\n",
    "\n",
    "How about we go even further and group our samples by `state` and then find the median `SalePrice` per state?\n",
    "\n",
    "We also compare this to the median `SalePrice` for all samples."
   ]
  },
  {
   "cell_type": "code",
   "execution_count": null,
   "metadata": {},
   "outputs": [],
   "source": [
    "# Group DataFrame by saleMonth and then find the median SalePrice per state as well as across the whole dataset\n",
    "median_prices_by_state = df_tmp.groupby([\"state\"])[\"SalePrice\"].median() # this will return a pandas Series rather than a DataFrame\n",
    "median_sale_price = df_tmp[\"SalePrice\"].median()\n",
    "\n",
    "# Create a plot comparing median sale price per state to median sale price overall\n",
    "plt.figure(figsize=(10, 7))\n",
    "plt.bar(x=median_prices_by_state.index, # Because we're working with a Series, we can use the index (state names) as the x values\n",
    "        height=median_prices_by_state.values)\n",
    "plt.xlabel(\"State\")\n",
    "plt.ylabel(\"Median Sale Price ($)\")\n",
    "plt.xticks(rotation=90, fontsize=7);\n",
    "plt.axhline(y=median_sale_price, \n",
    "            color=\"red\", \n",
    "            linestyle=\"--\", \n",
    "            label=f\"Median Sale Price: ${median_sale_price:,.0f}\")\n",
    "plt.legend();"
   ]
  },
  {
   "cell_type": "markdown",
   "metadata": {},
   "source": [
    "Now that's a nice looking figure!\n",
    "\n",
    "Interestingly Florida has the most sales and the median sale price is above the overall median of all other states.\n",
    "\n",
    "And if you had a bulldozer and were chasing the highest sale price, the data would reveal that perhaps selling in South Dakota would be your best bet.\n",
    "\n",
    "Perhaps bulldozers are in higher demand in South Dakota because of a building or mining boom?\n",
    "\n",
    "Answering this would require a bit more research.\n",
    "\n",
    "But what we're doing here is slowly building up a mental model of our data. \n",
    "\n",
    "So that if we saw an example in the future, we could compare its values to the ones we've already seen."
   ]
  },
  {
   "cell_type": "markdown",
   "metadata": {},
   "source": [
    "## 2. Model driven data exploration\n",
    "\n",
    "We've performed a small Exploratory Data Analysis (EDA) as well as enriched it with some `datetime` attributes, now let's try to model it.\n",
    "\n",
    "Why model so early?\n",
    "\n",
    "Well, we know the evaluation metric (root mean squared log error or RMSLE) we're heading towards. \n",
    "\n",
    "We could spend more time doing EDA, finding more out about the data ourselves but what we'll do instead is use a machine learning model to help us do EDA whilst simultaneously working towards the best evaluation metric we can get. \n",
    "\n",
    "Remember, one of the biggest goals of starting any new machine learning project is reducing the time between experiments.\n",
    "\n",
    "Following the [Scikit-Learn machine learning map](https://scikit-learn.org/stable/machine_learning_map.html) and taking into account the fact we've got over 100,000 examples, we find a [`sklearn.linear_model.SGDRegressor`](https://scikit-learn.org/stable/modules/generated/sklearn.linear_model.SGDRegressor.html) or a [`sklearn.ensemble.RandomForestRegressor`](https://scikit-learn.org/stable/modules/generated/sklearn.ensemble.RandomForestRegressor.html#sklearn-ensemble-randomforestregressor) model might be a good candidate.\n",
    "\n",
    "Since we're worked with the Random Forest algorithm before (on the [heart disease classification problem](https://dev.mrdbourke.com/zero-to-mastery-ml/end-to-end-heart-disease-classification/)), let's try it out on our regression problem.\n",
    "\n",
    "> **Note:** We're trying just one model here for now. But you can try many other kinds of models from the Scikit-Learn library, they mostly work with a similar API. There are even libraries such as [`LazyPredict`](https://github.com/shankarpandala/lazypredict) which will try many models simultaneously and return a table with the results."
   ]
  },
  {
   "cell_type": "code",
   "execution_count": null,
   "metadata": {},
   "outputs": [],
   "source": [
    "# This won't work since we've got missing numbers and categories\n",
    "from sklearn.ensemble import RandomForestRegressor\n",
    "\n",
    "model = RandomForestRegressor(n_jobs=-1)\n",
    "model.fit(X=df_tmp.drop(\"SalePrice\", axis=1), # use all columns except SalePrice as X input\n",
    "          y=df_tmp.SalePrice) # use SalePrice column as y input"
   ]
  },
  {
   "cell_type": "markdown",
   "metadata": {},
   "source": [
    "Oh no!\n",
    "\n",
    "When we try to fit our model to the data, we get a value error similar to:\n",
    "\n",
    "> `ValueError: could not convert string to float: 'Low'`\n",
    "\n",
    "The problem here is that some of the features of our data are in string format and machine learning models love numbers.\n",
    "\n",
    "Not to mention some of our samples have missing values.\n",
    "\n",
    "And typically, machine learning models require all data to be in numerical format as well as all missing values to be filled.\n",
    "\n",
    "Let's start to fix this by inspecting the different datatypes in our DataFrame.\n",
    "\n",
    "We can do so using the [`pandas.DataFrame.info()`](https://pandas.pydata.org/docs/reference/api/pandas.DataFrame.info.html) method, this will give us the different datatypes as well as how many non-null (a null value is generally a missing value) in our `df_tmp` DataFrame.\n",
    "\n",
    "> **Note:** There are some ML models such as [`sklearn.ensemble.HistGradientBoostingRegressor`](https://scikit-learn.org/stable/modules/generated/sklearn.ensemble.HistGradientBoostingRegressor.html), [CatBoost](https://catboost.ai/) and [XGBoost](https://xgboost.ai/) which can handle missing values, however, I'll leave exploring each of these as extra-curriculum/extensions."
   ]
  },
  {
   "cell_type": "code",
   "execution_count": null,
   "metadata": {},
   "outputs": [],
   "source": [
    "# Check for missing values and different datatypes \n",
    "df_tmp.info();"
   ]
  },
  {
   "cell_type": "markdown",
   "metadata": {},
   "source": [
    "Ok, it seems as though we've got a fair few different datatypes. \n",
    "\n",
    "There are `int64` types such as `MachineID`.\n",
    "\n",
    "There are `float64` types such as `SalePrice`.\n",
    "\n",
    "And there are `object` (the `object` dtype can hold any Python object, including strings) types such as `UseageBand`.\n",
    "\n",
    "> **Resource:** You can see a list of all the [pandas dtypes in the pandas user guide](https://pandas.pydata.org/docs/user_guide/basics.html#dtypes).\n",
    "\n",
    "How about we find out how many missing values are in each column?\n",
    "\n",
    "We can do so using [`pandas.DataFrame.isna()`](https://pandas.pydata.org/docs/reference/api/pandas.DataFrame.isna.html) (`isna` stands for 'is null or NaN') which will return a boolean `True`/`False` if a value is missing (`True` if missing, `False` if not). \n",
    "\n",
    "Let's start by checking the missing values in the head of our DataFrame."
   ]
  },
  {
   "cell_type": "code",
   "execution_count": null,
   "metadata": {},
   "outputs": [],
   "source": [
    "# Find missing values in the head of our DataFrame \n",
    "df_tmp.head().isna()"
   ]
  },
  {
   "cell_type": "markdown",
   "metadata": {},
   "source": [
    "Alright it seems as though we've got some missing values in the `MachineHoursCurrentMeter` as well as the `UsageBand` and a few other columns.\n",
    "\n",
    "But so far we've only viewed the first few rows.\n",
    "\n",
    "It'll be very time consuming to go through each row one by one so how about we get the total missing values per column?\n",
    "\n",
    "We can do so by calling `.isna()` on the whole DataFrame and then chaining it together with `.sum()`.\n",
    "\n",
    "Doing so will give us the total `True`/`False` values in a given column (when summing, `True` = 1, `False` = 0)."
   ]
  },
  {
   "cell_type": "code",
   "execution_count": null,
   "metadata": {},
   "outputs": [],
   "source": [
    "# Check for total missing values per column\n",
    "df_tmp.isna().sum()"
   ]
  },
  {
   "cell_type": "markdown",
   "metadata": {},
   "source": [
    "Woah! It looks like our DataFrame has quite a few missing values.\n",
    "\n",
    "Not to worry, we can work on fixing this later on.\n",
    "\n",
    "How about we start by tring to turn all of our data in numbers? "
   ]
  },
  {
   "cell_type": "markdown",
   "metadata": {},
   "source": [
    "### 2.1 Inspecting the datatypes in our DataFrame \n",
    "\n",
    "One way to help turn all of our data into numbers is to convert the columns with the `object` datatype into a `category` datatype using [`pandas.CategoricalDtype`](https://pandas.pydata.org/docs/reference/api/pandas.CategoricalDtype.html).\n",
    "\n",
    "> **Note:** There are many different ways to convert values into numbers. And often the best way will be specific to the value you're trying to convert. The method we're going to use, converting all objects (that are mostly strings) to categories is one of the faster methods as it makes a quick assumption that each unique value is its own number. \n",
    "\n",
    "We can check the datatype of an individual column using the `.dtype` attribute and we can get its full name using `.dtype.name`."
   ]
  },
  {
   "cell_type": "code",
   "execution_count": null,
   "metadata": {},
   "outputs": [],
   "source": [
    "# Get the dtype of a given column\n",
    "df_tmp[\"UsageBand\"].dtype, df_tmp[\"UsageBand\"].dtype.name"
   ]
  },
  {
   "cell_type": "markdown",
   "metadata": {},
   "source": [
    "Beautiful!\n",
    "\n",
    "Now we've got a way to check a column's datatype individually.\n",
    "\n",
    "There's also another group of methods to check a column's datatype directly.\n",
    "\n",
    "For example, using [`pd.api.types.is_object_dtype(arr_or_dtype)`](https://pandas.pydata.org/docs/reference/api/pandas.api.types.is_object_dtype.html) we can get a boolean response as to whether the input is an object or not.\n",
    "\n",
    "> **Note:** There are many more of these checks you can perform for other datatypes such as strings under a similar name space `pd.api.types.is_XYZ_dtype`. See the [pandas documentation](https://pandas.pydata.org/docs/reference/arrays.html) for more.\n",
    "\n",
    "Let's see how it works on our `df_tmp[\"UsageBand\"]` column."
   ]
  },
  {
   "cell_type": "code",
   "execution_count": null,
   "metadata": {},
   "outputs": [],
   "source": [
    "# Check whether a column is an object\n",
    "pd.api.types.is_object_dtype(df_tmp[\"UsageBand\"])"
   ]
  },
  {
   "cell_type": "markdown",
   "metadata": {},
   "source": [
    "We can also check whether a column is a string with [`pd.api.types.is_string_dtype(arr_or_dtype)`](https://pandas.pydata.org/docs/reference/api/pandas.api.types.is_string_dtype.html). "
   ]
  },
  {
   "cell_type": "code",
   "execution_count": null,
   "metadata": {},
   "outputs": [],
   "source": [
    "# Check whether a column is a string\n",
    "pd.api.types.is_string_dtype(df_tmp[\"state\"])"
   ]
  },
  {
   "cell_type": "markdown",
   "metadata": {},
   "source": [
    "Nice!\n",
    "\n",
    "We can even loop through the items (columns and their labels) in our DataFrame using [`pandas.DataFrame.items()`](https://pandas.pydata.org/docs/reference/api/pandas.DataFrame.items.html) (in Python dictionary terms, calling `.items()` on a DataFrame will treat the column names as the keys and the column values as the values) and print out samples of columns which have the `string` datatype.\n",
    "\n",
    "As an extra check, passing the sample to [`pd.api.types.infer_dtype()`](https://pandas.pydata.org/docs/reference/api/pandas.api.types.infer_dtype.html) will return the datatype of the sample.\n",
    "\n",
    "This will be a good way to keep exploring our data."
   ]
  },
  {
   "cell_type": "code",
   "execution_count": null,
   "metadata": {},
   "outputs": [],
   "source": [
    "# Quick exampke of calling .items() on a dictionary\n",
    "random_dict = {\"key1\": \"hello\",\n",
    "               \"key2\": \"world!\"}\n",
    "\n",
    "for key, value in random_dict.items():\n",
    "    print(f\"This is a key: {key}\")\n",
    "    print(f\"This is a value: {value}\")"
   ]
  },
  {
   "cell_type": "code",
   "execution_count": null,
   "metadata": {},
   "outputs": [],
   "source": [
    "# Print column names and example content of columns which contain strings\n",
    "for label, content in df_tmp.items():\n",
    "    if pd.api.types.is_string_dtype(content):\n",
    "        # Check datatype of target column\n",
    "        column_datatype = df_tmp[label].dtype.name\n",
    "\n",
    "        # Get random sample from column values\n",
    "        example_value = content.sample(1).values\n",
    "\n",
    "        # Infer random sample datatype\n",
    "        example_value_dtype = pd.api.types.infer_dtype(example_value)\n",
    "        print(f\"Column name: {label} | Column dtype: {column_datatype} | Example value: {example_value} | Example value dtype: {example_value_dtype}\")"
   ]
  },
  {
   "cell_type": "markdown",
   "metadata": {},
   "source": [
    "Hmm... it seems that there are many more columns in the `df_tmp` with the `object` type that didn't display when checking for the string datatype (we know there are many `object` datatype columns in our DataFrame from using `df_tmp.info()`).\n",
    "\n",
    "How about we try the same as above, except this time instead of `pd.api.types.is_string_dtype`, we use `pd.api.types.is_object_dtype`?\n",
    "\n",
    "Let's try it."
   ]
  },
  {
   "cell_type": "code",
   "execution_count": null,
   "metadata": {},
   "outputs": [],
   "source": [
    "# Start a count of how many object type columns there are\n",
    "number_of_object_type_columns = 0\n",
    "\n",
    "for label, content in df_tmp.items():\n",
    "    # Check to see if column is of object type (this will include the string columns)\n",
    "    if pd.api.types.is_object_dtype(content): \n",
    "        # Check datatype of target column\n",
    "        column_datatype = df_tmp[label].dtype.name\n",
    "\n",
    "        # Get random sample from column values\n",
    "        example_value = content.sample(1).values\n",
    "\n",
    "        # Infer random sample datatype\n",
    "        example_value_dtype = pd.api.types.infer_dtype(example_value)\n",
    "        print(f\"Column name: {label} | Column dtype: {column_datatype} | Example value: {example_value} | Example value dtype: {example_value_dtype}\")\n",
    "\n",
    "        number_of_object_type_columns += 1\n",
    "\n",
    "print(f\"\\n[INFO] Total number of object type columns: {number_of_object_type_columns}\")"
   ]
  },
  {
   "cell_type": "markdown",
   "metadata": {},
   "source": [
    "Wonderful, looks like we've got sample outputs from all of the columns with the `object` datatype.\n",
    "\n",
    "It also looks like that many of random samples are missing values."
   ]
  },
  {
   "cell_type": "markdown",
   "metadata": {},
   "source": [
    "### 2.2 Converting strings to categories with pandas \n",
    "\n",
    "In pandas, one way to convert object/string values to numerical values is to convert them to categories or more specifically, the `pd.CategoricalDtype` datatype.\n",
    "\n",
    "This datatype keeps the underlying data the same (e.g. doesn't change the string) but enables easy conversion to a numeric code using [`.cat.codes`](https://pandas.pydata.org/docs/reference/api/pandas.Series.cat.codes.html).\n",
    "\n",
    "For example, the column `state` might have the values `'Alabama', 'Alaska', 'Arizona'...` and these could be mapped to numeric values `1, 2, 3...` respectively.\n",
    "\n",
    "To see this in action, let's first convert the object datatype columns to `\"category\"` datatype.\n",
    "\n",
    "We can do so by looping through the `.items()` of our DataFrame and reassigning each object datatype column using [`pandas.Series.astype(dtype=\"category\")`](https://pandas.pydata.org/docs/reference/api/pandas.Series.astype.html)."
   ]
  },
  {
   "cell_type": "code",
   "execution_count": null,
   "metadata": {},
   "outputs": [],
   "source": [
    "# This will turn all of the object columns into category values\n",
    "for label, content in df_tmp.items(): \n",
    "    if pd.api.types.is_object_dtype(content):\n",
    "        df_tmp[label] = df_tmp[label].astype(\"category\")"
   ]
  },
  {
   "cell_type": "markdown",
   "metadata": {},
   "source": [
    "Wonderful!\n",
    "\n",
    "Now let's check if it worked by calling `.info()` on our DataFrame."
   ]
  },
  {
   "cell_type": "code",
   "execution_count": null,
   "metadata": {},
   "outputs": [],
   "source": [
    "df_tmp.info()"
   ]
  },
  {
   "cell_type": "markdown",
   "metadata": {},
   "source": [
    "It looks like it worked!\n",
    "\n",
    "All of the object datatype columns now have the category datatype.\n",
    "\n",
    "We can inspect this on a single column using `pandas.Series.dtype`."
   ]
  },
  {
   "cell_type": "code",
   "execution_count": null,
   "metadata": {},
   "outputs": [],
   "source": [
    "# Check the datatype of a single column\n",
    "df_tmp.state.dtype"
   ]
  },
  {
   "cell_type": "markdown",
   "metadata": {},
   "source": [
    "Excellent, notice how the column is now of type `pd.CategoricalDtype`.\n",
    "\n",
    "We can also access these categories using [`pandas.Series.cat.categories`](https://pandas.pydata.org/docs/reference/api/pandas.Series.cat.categories.html)."
   ]
  },
  {
   "cell_type": "code",
   "execution_count": null,
   "metadata": {},
   "outputs": [],
   "source": [
    "# Get the category names of a given column\n",
    "df_tmp.state.cat.categories"
   ]
  },
  {
   "cell_type": "markdown",
   "metadata": {},
   "source": [
    "Finally, we can get the category codes (the numeric values representing the category) using [`pandas.Series.cat.codes`](https://pandas.pydata.org/docs/reference/api/pandas.Series.cat.codes.html)."
   ]
  },
  {
   "cell_type": "code",
   "execution_count": null,
   "metadata": {},
   "outputs": [],
   "source": [
    "# Inspect the category codes\n",
    "df_tmp.state.cat.codes"
   ]
  },
  {
   "cell_type": "markdown",
   "metadata": {},
   "source": [
    "This gives us a numeric representation of our object/string datatype columns."
   ]
  },
  {
   "cell_type": "code",
   "execution_count": null,
   "metadata": {},
   "outputs": [],
   "source": [
    "# Get example string using category number\n",
    "target_state_cat_number = 43\n",
    "target_state_cat_value = df_tmp.state.cat.categories[target_state_cat_number] \n",
    "print(f\"[INFO] Target state category number {target_state_cat_number} maps to: {target_state_cat_value}\")"
   ]
  },
  {
   "cell_type": "markdown",
   "metadata": {},
   "source": [
    "Epic! \n",
    "\n",
    "All of our data is categorical and thus we can now turn the categories into numbers, however it's still missing values, not to worry though, we'll get to these shortly."
   ]
  },
  {
   "cell_type": "markdown",
   "metadata": {},
   "source": [
    "### 2.3 Saving our preprocessed data (part 1)\n",
    "\n",
    "Before we start doing any further preprocessing steps on our DataFrame, how about we save our current DataFrame to file so we could import it again later if necessary.\n",
    "\n",
    "Saving and updating your dataset as you go is common practice in machine learning problems. As your problem changes and evolves, the dataset you're working with will likely change too.\n",
    "\n",
    "Making checkpoints of your dataset is similar to making checkpoints of your code."
   ]
  },
  {
   "cell_type": "code",
   "execution_count": null,
   "metadata": {},
   "outputs": [],
   "source": [
    "# Save preprocessed data to file\n",
    "df_tmp.to_csv(\"../data/bluebook-for-bulldozers/TrainAndValid_object_values_as_categories.csv\",\n",
    "              index=False)"
   ]
  },
  {
   "cell_type": "markdown",
   "metadata": {},
   "source": [
    "Now we've saved our preprocessed data to file, we can re-import it and make sure it's in the same format."
   ]
  },
  {
   "cell_type": "code",
   "execution_count": null,
   "metadata": {},
   "outputs": [],
   "source": [
    "# Import preprocessed data to file\n",
    "df_tmp = pd.read_csv(\"../data/bluebook-for-bulldozers/TrainAndValid_object_values_as_categories.csv\",\n",
    "                     low_memory=False)\n",
    "\n",
    "df_tmp.head()"
   ]
  },
  {
   "cell_type": "markdown",
   "metadata": {},
   "source": [
    "Excellent, looking at the tale end (the far right side) our processed DataFrame has the columns we added to it (the extra data features) but it's still missing values.\n",
    "\n",
    "But if we check `df_tmp.info()`..."
   ]
  },
  {
   "cell_type": "code",
   "execution_count": null,
   "metadata": {},
   "outputs": [],
   "source": [
    "df_tmp.info()"
   ]
  },
  {
   "cell_type": "markdown",
   "metadata": {},
   "source": [
    "Hmm... what happened here? \n",
    "\n",
    "Notice that all of the `category` datatype columns are back to the `object` datatype.\n",
    "\n",
    "This is strange since we already converted the `object` datatype columns to `category`.\n",
    "\n",
    "Well then why did they change back?\n",
    "\n",
    "This happens because of the limitations of the CSV (`.csv`) file format, it doesn't preserve data types, rather it stores all the values as strings.\n",
    "\n",
    "So when we read in a CSV, pandas defaults to interpreting strings as `object` datatypes.\n",
    "\n",
    "Not to worry though, we can easily convert them to the `category` datatype as we did before.\n",
    "\n",
    "> **Note:** If you'd like to retain the datatypes when saving your data, you can use file formats such as [`parquet`](https://pandas.pydata.org/docs/user_guide/io.html#parquet) (Apache Parquet) and [`feather`](https://pandas.pydata.org/docs/user_guide/io.html#feather). These filetypes have several advantages over CSV in terms of processing speeds and storage size. However, data stored in these formats is not human-readable so you won't be able to open the files and inspect them without specific tools. For more on different file formats in pandas, see the [IO tools documentation page](https://pandas.pydata.org/docs/user_guide/io.html#)."
   ]
  },
  {
   "cell_type": "code",
   "execution_count": null,
   "metadata": {},
   "outputs": [],
   "source": [
    "for label, content in df_tmp.items():\n",
    "    if pd.api.types.is_object_dtype(content):\n",
    "        # Turn object columns into category datatype\n",
    "        df_tmp[label] = df_tmp[label].astype(\"category\")"
   ]
  },
  {
   "cell_type": "markdown",
   "metadata": {},
   "source": [
    "Now if we wanted to preserve the datatypes of our data, we can save to `parquet` or `feather` format.\n",
    "\n",
    "Let's try using `parquet` format.\n",
    "\n",
    "To do so, we can use the [`pandas.DataFrame.to_parquet()`](https://pandas.pydata.org/docs/reference/api/pandas.DataFrame.to_parquet.html) method.\n",
    "\n",
    "Files in the `parquet` format typically have the file extension of `.parquet`."
   ]
  },
  {
   "cell_type": "code",
   "execution_count": null,
   "metadata": {},
   "outputs": [],
   "source": [
    "# To save to parquet format requires pyarrow or fastparquet (or both)\n",
    "# Can install via `pip install pyarrow fastparquet`\n",
    "df_tmp.to_parquet(path=\"../data/bluebook-for-bulldozers/TrainAndValid_object_values_as_categories.parquet\", \n",
    "                  engine=\"auto\") # \"auto\" will automatically use pyarrow or fastparquet, defaulting to pyarrow first"
   ]
  },
  {
   "cell_type": "markdown",
   "metadata": {},
   "source": [
    "Wonderful! Now let's try importing our DataFrame from the `parquet` format and check it using `df_tmp.info()`."
   ]
  },
  {
   "cell_type": "code",
   "execution_count": null,
   "metadata": {},
   "outputs": [],
   "source": [
    "# Read in df_tmp from parquet format\n",
    "df_tmp = pd.read_parquet(path=\"../data/bluebook-for-bulldozers/TrainAndValid_object_values_as_categories.parquet\",\n",
    "                         engine=\"auto\")\n",
    "\n",
    "# Using parquet format, datatypes are preserved\n",
    "df_tmp.info()"
   ]
  },
  {
   "cell_type": "markdown",
   "metadata": {},
   "source": [
    "Nice! Looks like using the `parquet` format preserved all of our datatypes.\n",
    "\n",
    "For more on the `parquet` and `feather` formats, be sure to check out the [pandas IO (input/output) documentation](https://pandas.pydata.org/docs/user_guide/io.html#parquet)."
   ]
  },
  {
   "cell_type": "markdown",
   "metadata": {},
   "source": [
    "### 2.4 Finding and filling missing values\n",
    "\n",
    "Let's remind ourselves of the missing values by getting the top 20 columns with the most missing values.\n",
    "\n",
    "We do so by summing the results of [`pandas.DataFrame.isna()`](https://pandas.pydata.org/docs/reference/api/pandas.DataFrame.isna.html) and then using [`sort_values(ascending=False)`](https://pandas.pydata.org/docs/reference/api/pandas.DataFrame.sort_values.html) to showcase the rows with the most missing."
   ]
  },
  {
   "cell_type": "code",
   "execution_count": null,
   "metadata": {},
   "outputs": [],
   "source": [
    "# Check missing values\n",
    "df_tmp.isna().sum().sort_values(ascending=False)[:20]"
   ]
  },
  {
   "cell_type": "markdown",
   "metadata": {},
   "source": [
    "Ok, it seems like there are a fair few columns with missing values and there are several datatypes across these columns (numerical, categorical).\n",
    "\n",
    "How about we break the problem down and work on filling each datatype separately?"
   ]
  },
  {
   "cell_type": "markdown",
   "metadata": {},
   "source": [
    "### 2.5 Filling missing numerical values\n",
    "\n",
    "There's no set way to fill missing values in your dataset.\n",
    "\n",
    "And unless you're filling the missing samples with newly discovered actual data, every way you fill your dataset's missing values will introduce some sort of noise or bias. \n",
    "\n",
    "We'll start by filling the missing numerical values in ourdataet.\n",
    "\n",
    "To do this, we'll first find the numeric datatype columns.\n",
    "\n",
    "We can do by looping through the columns in our DataFrame and calling [`pd.api.types.is_numeric_dtype(arr_or_dtype)`](https://pandas.pydata.org/docs/reference/api/pandas.api.types.is_numeric_dtype.html) on them."
   ]
  },
  {
   "cell_type": "code",
   "execution_count": null,
   "metadata": {},
   "outputs": [],
   "source": [
    "# Find numeric columns \n",
    "for label, content in df_tmp.items():\n",
    "    if pd.api.types.is_numeric_dtype(content):\n",
    "        # Check datatype of target column\n",
    "        column_datatype = df_tmp[label].dtype.name\n",
    "\n",
    "        # Get random sample from column values\n",
    "        example_value = content.sample(1).values\n",
    "\n",
    "        # Infer random sample datatype\n",
    "        example_value_dtype = pd.api.types.infer_dtype(example_value)\n",
    "        print(f\"Column name: {label} | Column dtype: {column_datatype} | Example value: {example_value} | Example value dtype: {example_value_dtype}\")"
   ]
  },
  {
   "cell_type": "markdown",
   "metadata": {},
   "source": [
    "Beautiful! Looks like we've got a mixture of `int64` and `float64` numerical datatypes.\n",
    "\n",
    "Now how about we find out which numeric columns are missing values?\n",
    "\n",
    "We can do so by using `pandas.isnull(obj).sum()` to detect and sum the missing values in a given array-like object (in our case, the data in a target column).\n",
    "\n",
    "Let's loop through our DataFrame columns, find the numeric datatypes and check if they have any missing values."
   ]
  },
  {
   "cell_type": "code",
   "execution_count": null,
   "metadata": {},
   "outputs": [],
   "source": [
    "# Check for which numeric columns have null values\n",
    "for label, content in df_tmp.items():\n",
    "    if pd.api.types.is_numeric_dtype(content):\n",
    "        if pd.isnull(content).sum():\n",
    "            print(f\"Column name: {label} | Has missing values: {True}\")\n",
    "        else:\n",
    "            print(f\"Column name: {label} | Has missing values: {False}\")"
   ]
  },
  {
   "cell_type": "markdown",
   "metadata": {},
   "source": [
    "Okay, it looks like our `auctioneerID` and `MachineHoursCurrentMeter` columns have missing numeric values.\n",
    "\n",
    "Let's have a look at how we might handle these."
   ]
  },
  {
   "cell_type": "markdown",
   "metadata": {},
   "source": [
    "### 2.6 Discussing possible ways to handle missing values\n",
    "\n",
    "As previously discussed, there are many ways to fill missing values.\n",
    "\n",
    "For missing numeric values, some potential options are:\n",
    "\n",
    "| **Method** | **Pros**  | **Cons** |\n",
    "|-----|-----|-----|\n",
    "| **Fill with mean of column** | - Easy to calculate/implement <br> - Retains overall data distribution | - Averages out variation <br> - Affected by outliers (e.g. if one value is much higher/lower than others) |\n",
    "| **Fill with median of column** | - Easy to calculate/implement <br> - Robust to outliers <br> - Preserves center of data  | - Ignores data distribution shape |\n",
    "| **Fill with mode of column** | - Easy to calculate/implement <br> - More useful for categorical-like data | - May not make sense for continuous/numerical data  |\n",
    "| **Fill with 0 (or another constant)** | - Simple to implement <br> - Useful in certain contexts like counts  | - Introduces bias (e.g. if 0 was a value that meant something) <br> - Skews data (e.g. if many missing values, replacing all with 0 makes it look like that's the most common value)  |\n",
    "| **Forward/Backward fill (use previous/future values to fill future/previous values)**  | - Maintains temporal continuity (for time series) | - Assumes data is continuous, which may not be valid |\n",
    "| **Use a calculation from other columns** | - Takes existing information and reinterprets it | - Can result in unlikely outputs if calculations are not continuous | \n",
    "| **Interpolate  (e.g. like dragging a cell in Excel/Google Sheets)** | - Captures trends <br> - Suitable for ordered data | - Can introduce errors <br> - May assume linearity (data continues in a straight line) |\n",
    "| **Drop missing values** | - Ensures complete data (only use samples with all information) <br> - Useful for small datasets | - Can result in data loss (e.g. if many missing values are scattered across columns, data size can be dramatically reduced) <br> - Reduces dataset size  |\n",
    "\n",
    "Which method you choose will be dataset and problem dependant and will likely require several phases of experimentation to see what works and what doesn't.\n",
    "\n",
    "For now, we'll fill our missing numeric values with the median value of the target column.\n",
    "\n",
    "We'll also add a binary column (0 or 1) with rows reflecting whether or not a value was missing.\n",
    "\n",
    "For example, `MachineHoursCurrentMeter_is_missing` will be a column with rows which have a value of `0` if that row's `MachineHoursCurrentMeter` column was *not* missing and `1` if it was.\n",
    "\n"
   ]
  },
  {
   "cell_type": "code",
   "execution_count": null,
   "metadata": {},
   "outputs": [],
   "source": [
    "# Fill missing numeric values with the median of the target column\n",
    "for label, content in df_tmp.items():\n",
    "    if pd.api.types.is_numeric_dtype(content):\n",
    "        if pd.isnull(content).sum():\n",
    "            \n",
    "            # Add a binary column which tells if the data was missing our not\n",
    "            df_tmp[label+\"_is_missing\"] = pd.isnull(content).astype(int) # this will add a 0 or 1 value to rows with missing values (e.g. 0 = not missing, 1 = missing)\n",
    "\n",
    "            # Fill missing numeric values with median since it's more robust than the mean\n",
    "            df_tmp[label] = content.fillna(content.median())"
   ]
  },
  {
   "cell_type": "markdown",
   "metadata": {},
   "source": [
    "Why add a binary column indicating whether the data was missing or not?\n",
    "\n",
    "We can easily fill all of the missing numeric values in our dataset with the median. \n",
    "\n",
    "However, a numeric value may be missing for a reason. \n",
    "\n",
    "Adding a binary column which indicates whether the value was missing or not helps to retain this information. It also means we can inspect these rows later on."
   ]
  },
  {
   "cell_type": "code",
   "execution_count": null,
   "metadata": {},
   "outputs": [],
   "source": [
    "# Show rows where MachineHoursCurrentMeter_is_missing == 1\n",
    "df_tmp[df_tmp[\"MachineHoursCurrentMeter_is_missing\"] == 1].sample(5)"
   ]
  },
  {
   "cell_type": "markdown",
   "metadata": {},
   "source": [
    "Missing numeric values filled!\n",
    "\n",
    "How about we check again whether or not the numeric columns have missing values?"
   ]
  },
  {
   "cell_type": "code",
   "execution_count": null,
   "metadata": {},
   "outputs": [],
   "source": [
    "# Check for which numeric columns have null values\n",
    "for label, content in df_tmp.items():\n",
    "    if pd.api.types.is_numeric_dtype(content):\n",
    "        if pd.isnull(content).sum():\n",
    "            print(f\"Column name: {label} | Has missing values: {True}\")\n",
    "        else:\n",
    "            print(f\"Column name: {label} | Has missing values: {False}\")"
   ]
  },
  {
   "cell_type": "markdown",
   "metadata": {},
   "source": [
    "Woohoo! Numeric missing values filled!\n",
    "\n",
    "And thanks to our binary `_is_missing` columns, we can even check how many were missing."
   ]
  },
  {
   "cell_type": "code",
   "execution_count": null,
   "metadata": {},
   "outputs": [],
   "source": [
    "# Check to see how many examples in the auctioneerID were missing\n",
    "df_tmp.auctioneerID_is_missing.value_counts()"
   ]
  },
  {
   "cell_type": "markdown",
   "metadata": {},
   "source": [
    "### 2.7 Filling missing categorical values with pandas\n",
    "\n",
    "Now we've filled the numeric values, we'll do the same with the categorical values whilst ensuring that they are all numerical too.\n",
    "\n",
    "Let's first investigate the columns which *aren't* numeric (we've already worked with these). "
   ]
  },
  {
   "cell_type": "code",
   "execution_count": null,
   "metadata": {},
   "outputs": [],
   "source": [
    "# Check columns which aren't numeric\n",
    "print(f\"[INFO] Columns which are not numeric:\")\n",
    "for label, content in df_tmp.items():\n",
    "    if not pd.api.types.is_numeric_dtype(content):\n",
    "        print(f\"Column name: {label} | Column dtype: {df_tmp[label].dtype.name}\")"
   ]
  },
  {
   "cell_type": "markdown",
   "metadata": {},
   "source": [
    "Okay, we've got plenty of category type columns.\n",
    "\n",
    "Let's now write some code to fill the missing categorical values as well as ensure they are numerical (non-string). \n",
    "\n",
    "To do so, we'll:\n",
    "\n",
    "1. Create a blank column to category dictionary, we'll use this to store categorical value names (e.g. their string name) as well as their categorical code. We'll end with a dictionary of dictionaries in the form `{\"column_name\": {category_code: \"category_value\"...}...}`.\n",
    "2. Loop through the items in the DataFrame.\n",
    "3. Check if the column is numeric or not.\n",
    "4. Add a binary column in the form `ORIGINAL_COLUMN_NAME_is_missing` with a `0` or `1` value for if the row had a missing value.\n",
    "5. Ensure the column values are in the `pd.Categorical` datatype and get their category codes with `pd.Series.cat.codes` (we'll add `1` to these values since pandas defaults to assigning `-1` to `NaN` values, we'll use `0` instead).\n",
    "6. Turn the column categories and column category codes from 5 into a dictionary with Python's [`dict(zip(category_names, category_codes))`](https://docs.python.org/3.3/library/functions.html#zip) and save this to the blank dictionary from 1 with the target column name as key.\n",
    "7. Set the target column value to the numerical category values from 5.\n",
    "\n",
    "Phew!\n",
    "\n",
    "That's a fair few steps but nothing we can't handle.\n",
    "\n",
    "Let's do it!"
   ]
  },
  {
   "cell_type": "code",
   "execution_count": null,
   "metadata": {},
   "outputs": [],
   "source": [
    "# 1. Create a dictionary to store column to category values (e.g. we turn our category types into numbers but we keep a record so we can go back)\n",
    "column_to_category_dict = {} \n",
    "\n",
    "# 2. Turn categorical variables into numbers\n",
    "for label, content in df_tmp.items():\n",
    "\n",
    "    # 3. Check columns which *aren't* numeric\n",
    "    if not pd.api.types.is_numeric_dtype(content):\n",
    "\n",
    "        # 4. Add binary column to inidicate whether sample had missing value\n",
    "        df_tmp[label+\"_is_missing\"] = pd.isnull(content).astype(int)\n",
    "\n",
    "        # 5. Ensure content is categorical and get its category codes\n",
    "        content_categories = pd.Categorical(content)\n",
    "        content_category_codes = content_categories.codes + 1 # prevents -1 (the default for NaN values) from being used for missing values (we'll treat missing values as 0)\n",
    "\n",
    "        # 6. Add column key to dictionary with code: category mapping per column\n",
    "        column_to_category_dict[label] = dict(zip(content_category_codes, content_categories))\n",
    "        \n",
    "        # 7. Set the column to the numerical values (the category code value) \n",
    "        df_tmp[label] = content_category_codes      "
   ]
  },
  {
   "cell_type": "markdown",
   "metadata": {},
   "source": [
    "Ho ho! No errors!\n",
    "\n",
    "Let's check out a few random samples of our DataFrame."
   ]
  },
  {
   "cell_type": "code",
   "execution_count": null,
   "metadata": {},
   "outputs": [],
   "source": [
    "df_tmp.sample(5)"
   ]
  },
  {
   "cell_type": "markdown",
   "metadata": {},
   "source": [
    "Beautiful! Looks like our data is all in numerical form.\n",
    "\n",
    "How about we investigate an item from our `column_to_category_dict`?\n",
    "\n",
    "This will show the mapping from numerical value to category (most likely a string) value."
   ]
  },
  {
   "cell_type": "code",
   "execution_count": null,
   "metadata": {},
   "outputs": [],
   "source": [
    "# Check the UsageBand (measure of bulldozer usage)\n",
    "for key, value in sorted(column_to_category_dict[\"UsageBand\"].items()): # note: calling sorted() on dictionary.items() sorts the dictionary by keys \n",
    "    print(f\"{key} -> {value}\")"
   ]
  },
  {
   "cell_type": "markdown",
   "metadata": {},
   "source": [
    "> **Note:** Categorical values do not necessarily have order. They are strictly a mapping from number to value. In this case, our categorical values are mapped in numerical order. If you feel that the order of a value may influence a model in a negative way (e.g. `1 -> High` is *lower* than `3 -> Medium` but should be *higher*), you may want to look into ordering the values in a particular way or using a different numerical encoding technique such as [one-hot encoding](https://en.wikipedia.org/wiki/One-hot).\n",
    "\n",
    "And we can do the same for the `state` column values."
   ]
  },
  {
   "cell_type": "code",
   "execution_count": null,
   "metadata": {},
   "outputs": [],
   "source": [
    "# Check the first 10 state column values\n",
    "for key, value in sorted(column_to_category_dict[\"state\"].items())[:10]:\n",
    "    print(f\"{key} -> {value}\")"
   ]
  },
  {
   "cell_type": "markdown",
   "metadata": {},
   "source": [
    "Beautiful!\n",
    "\n",
    "How about we check to see all of the missing values have been filled?"
   ]
  },
  {
   "cell_type": "code",
   "execution_count": null,
   "metadata": {},
   "outputs": [],
   "source": [
    "# Check total number of missing values\n",
    "total_missing_values = df_tmp.isna().sum().sum()\n",
    "\n",
    "if total_missing_values == 0:\n",
    "    print(f\"[INFO] Total missing values: {total_missing_values} - Woohoo! Let's build a model!\")\n",
    "else:\n",
    "    print(f\"[INFO] Uh ohh... total missing values: {total_missing_values} - Perhaps we might have to retrace our steps to fill the values?\")"
   ]
  },
  {
   "cell_type": "markdown",
   "metadata": {},
   "source": [
    "### 2.8 Saving our preprocessed data (part 2)\n",
    "\n",
    "One more step before we train new model!\n",
    "\n",
    "Let's save our work so far so we could re-import our preprocessed dataset if we wanted to.\n",
    "\n",
    "We'll save it to the `parquet` format again, this time with a suffix to show we've filled the missing values."
   ]
  },
  {
   "cell_type": "code",
   "execution_count": null,
   "metadata": {},
   "outputs": [],
   "source": [
    "# Save preprocessed data with object values as categories as well as missing values filled\n",
    "df_tmp.to_parquet(path=\"../data/bluebook-for-bulldozers/TrainAndValid_object_values_as_categories_and_missing_values_filled.parquet\",\n",
    "                  engine=\"auto\")"
   ]
  },
  {
   "cell_type": "markdown",
   "metadata": {},
   "source": [
    "And to make sure it worked, we can re-import it."
   ]
  },
  {
   "cell_type": "code",
   "execution_count": null,
   "metadata": {},
   "outputs": [],
   "source": [
    "# Read in preprocessed dataset\n",
    "df_tmp = pd.read_parquet(path=\"../data/bluebook-for-bulldozers/TrainAndValid_object_values_as_categories_and_missing_values_filled.parquet\",\n",
    "                         engine=\"auto\")"
   ]
  },
  {
   "cell_type": "markdown",
   "metadata": {},
   "source": [
    "Does it have any missing values?"
   ]
  },
  {
   "cell_type": "code",
   "execution_count": null,
   "metadata": {},
   "outputs": [],
   "source": [
    "# Check total number of missing values\n",
    "total_missing_values = df_tmp.isna().sum().sum()\n",
    "\n",
    "if total_missing_values == 0:\n",
    "    print(f\"[INFO] Total missing values: {total_missing_values} - Woohoo! Let's build a model!\")\n",
    "else:\n",
    "    print(f\"[INFO] Uh ohh... total missing values: {total_missing_values} - Perhaps we might have to retrace our steps to fill the values?\")"
   ]
  },
  {
   "cell_type": "markdown",
   "metadata": {},
   "source": [
    "Checkpoint reached!\n",
    "\n",
    "We've turned all of our data into numbers as well as filled the missing values, time to try fitting a model to it again."
   ]
  },
  {
   "cell_type": "markdown",
   "metadata": {},
   "source": [
    "### 2.9 Fitting a machine learning model to our preprocessed data\n",
    "\n",
    "Now all of our data is numeric and there are no missing values, we should be able to fit a machine learning model to it!\n",
    "\n",
    "Let's reinstantiate our trusty [`sklearn.ensemble.RandomForestRegressor`](https://scikit-learn.org/stable/modules/generated/sklearn.ensemble.RandomForestRegressor.html) model.\n",
    "\n",
    "Since our dataset has a substantial amount of rows (~400k+), let's first make sure the model will work on a smaller sample of 1000 or so.\n",
    "\n",
    "> **Note:** It's common practice on machine learning problems to see if your experiments will work on smaller scale problems (e.g. smaller amounts of data) before scaling them up to the full dataset. This practice enables you to try many different kinds of experiments with faster runtimes. The benefit of this is that you can figure out what doesn't work before spending more time on what does.\n",
    "\n",
    "Our `X` values (features) will be every column except the `SalePrice` column.\n",
    "\n",
    "And our `y` values (labels) will be the entirety of the `SalePrice` column.\n",
    "\n",
    "\n",
    "We'll time how long our smaller experiment takes using the [magic function `%%time`](https://jakevdp.github.io/PythonDataScienceHandbook/01.07-timing-and-profiling.html) and placing it at the top of the notebook cell.\n",
    "\n",
    "> **Note:** You can find out more about the `%%time` magic command by typing `%%time?` (note the question mark on the end) in a notebook cell.\n"
   ]
  },
  {
   "cell_type": "code",
   "execution_count": null,
   "metadata": {},
   "outputs": [],
   "source": [
    "%%time\n",
    "\n",
    "# Sample 1000 samples with random state 42 for reproducibility\n",
    "df_tmp_sample_1k = df_tmp.sample(n=1000, random_state=42)\n",
    "\n",
    "# Instantiate a model\n",
    "model = RandomForestRegressor(n_jobs=-1) # use -1 to utilise all available processors\n",
    "\n",
    "# Create features and labels\n",
    "X_sample_1k = df_tmp_sample_1k.drop(\"SalePrice\", axis=1) # use all columns except SalePrice as X values\n",
    "y_sample_1k = df_tmp_sample_1k[\"SalePrice\"] # use SalePrice as y values (target variable)\n",
    "\n",
    "# Fit the model to the sample data\n",
    "model.fit(X=X_sample_1k, \n",
    "          y=y_sample_1k) "
   ]
  },
  {
   "cell_type": "markdown",
   "metadata": {},
   "source": [
    "Woah! It looks like things worked!\n",
    "\n",
    "And quite quick too (since we're only using a relatively small number of rows).\n",
    "\n",
    "How about we score our model?\n",
    "\n",
    "We can do so using the built-in method `score()`. \n",
    "\n",
    "By default, `sklearn.ensemble.RandomForestRegressor` uses [coefficient of determination](https://en.wikipedia.org/wiki/Coefficient_of_determination) ($R^2$ or R-squared) as the evaluation metric (higher is better, with a score of 1.0 being perfect)."
   ]
  },
  {
   "cell_type": "code",
   "execution_count": null,
   "metadata": {},
   "outputs": [],
   "source": [
    "# Evaluate the model\n",
    "model_sample_1k_score = model.score(X=X_sample_1k,\n",
    "                                    y=y_sample_1k)\n",
    "\n",
    "print(f\"[INFO] Model score on {len(df_tmp_sample_1k)} samples: {model_sample_1k_score}\")"
   ]
  },
  {
   "cell_type": "markdown",
   "metadata": {},
   "source": [
    "Wow, it looks like our model got a pretty good score on only 1000 samples (the best possible score it could achieve would've been 1.0). \n",
    "\n",
    "How about we try our model on the whole dataset?"
   ]
  },
  {
   "cell_type": "code",
   "execution_count": null,
   "metadata": {},
   "outputs": [],
   "source": [
    "%%time\n",
    "\n",
    "# Instantiate model\n",
    "model = RandomForestRegressor(n_jobs=-1) # note: this could take quite a while depending on your machine (it took ~1.5 minutes on my MacBook Pro M1 Pro with 10 cores)\n",
    "\n",
    "# Create features and labels with entire dataset\n",
    "X_all = df_tmp.drop(\"SalePrice\", axis=1)\n",
    "y_all = df_tmp[\"SalePrice\"]\n",
    "\n",
    "# Fit the model\n",
    "model.fit(X=X_all, \n",
    "          y=y_all)"
   ]
  },
  {
   "cell_type": "markdown",
   "metadata": {},
   "source": [
    "Ok, that took a little bit longer than fitting on 1000 samples (but that's too be expected, as many more calculations had to be made).\n",
    "\n",
    "There's a reason we used `n_jobs=-1` too.\n",
    "\n",
    "If we stuck with the default of `n_jobs=None` (the same as `n_jobs=1`), it would've taken much longer.\n",
    "\n",
    "| Configuration (MacBook Pro M1 Pro, 10 Cores) | CPU Times (User) | CPU Times (Sys) | CPU Times (Total) | Wall Time  |\n",
    "|-----|-----|-----|-----|-----|\n",
    "| `n_jobs=-1` (all cores)   | 9min 14s         | 3.85s           | 9min 18s          | 1min 15s   |\n",
    "| `n_jobs=None` (default)   | 7min 14s         | 1.75s           | 7min 16s          | 7min 25s   |\n",
    "\n",
    "And as we've discussed many times, one of the main goals when starting a machine learning project is to reduce your time between experiments.\n",
    "\n",
    "How about we score the model trained on all of the data?"
   ]
  },
  {
   "cell_type": "code",
   "execution_count": null,
   "metadata": {},
   "outputs": [],
   "source": [
    "# Evaluate the model\n",
    "model_sample_all_score = model.score(X=X_all,\n",
    "                                     y=y_all)\n",
    "\n",
    "print(f\"[INFO] Model score on {len(df_tmp)} samples: {model_sample_all_score}\")"
   ]
  },
  {
   "cell_type": "markdown",
   "metadata": {},
   "source": [
    "An even better score!\n",
    "\n",
    "Oh wait...\n",
    "\n",
    "Oh no...\n",
    "\n",
    "I think we've got an error... (you might've noticed it already)\n",
    "\n",
    "Why might this metric be unreliable?\n",
    "\n",
    "Hint: Compare the data we trained on versus the data we evaluated on."
   ]
  },
  {
   "cell_type": "markdown",
   "metadata": {},
   "source": [
    "### 2.10 A big (but fixable) mistake \n",
    "\n",
    "One of the hard things about bugs in machine learning projects is that they are often silent.\n",
    "\n",
    "For example, our model seems to have fit the data with no issues and then evaluated with a good score.\n",
    "\n",
    "So what's wrong?\n",
    "\n",
    "It seems we've stumbled across one of the most common bugs in machine learning and that's **data leakage** (data from the training set leaking into the validation/testing sets).\n",
    "\n",
    "We've evaluated our model on the same data it was trained on.\n",
    "\n",
    "This isn't the model's fault either.\n",
    "\n",
    "It's our fault.\n",
    "\n",
    "Right back at the start we imported a file called `TrainAndValid.csv`, this file contains both the training and validation data.\n",
    "\n",
    "And while we preprocessed it to make sure there were no missing values and the samples were all numeric, we never split the data into separate training and validation splits.\n",
    "\n",
    "The right workflow would've been to train the model on the training split and then evaluate it on the *unseen* and *separate* validation split.\n",
    "\n",
    "Our evaluation scores above are quite good but they can't necessarily be trusted to be replicated on unseen data (data in the real world) because they've been obtained by evaluating the model on data its already seen during training. \n",
    "\n",
    "This would be the equivalent of a final exam at university containing all of the same questions as the practice exam without any changes, you may get a good grade, but does that good grade translate to the real world?\n",
    "\n",
    "Not to worry, we can fix this!\n",
    "\n",
    "How?\n",
    "\n",
    "We can import the training and validation datasets separately via `Train.csv` and `Valid.csv` respectively.\n",
    "\n",
    "Or we could import `TrainAndValid.csv` and perform the appropriate splits according the original [Kaggle competition page](https://www.kaggle.com/c/bluebook-for-bulldozers/data) (training data includes all samples prior to 2012 and validation data includes samples from January 1 2012 to April 30 2012).\n",
    "\n",
    "In both methods, we'll have to perform similar preprocessing steps we've done so far.\n",
    "\n",
    "Except because the validation data is supposed to remain as *unseen* data, we'll only use information from the training set to preprocess the validation set (and not mix the two). \n",
    "\n",
    "We'll work on this in the subsequent sections.\n",
    "\n",
    "The takeaway?\n",
    "\n",
    "Always (if possible) **create appropriate data splits at the start of a project**.\n",
    "\n",
    "Because it's one thing to train a machine learning model but if you can't evaluate it properly (on unseen data), how can you know how it'll perform (or may perform) in the real world on new and unseen data?"
   ]
  },
  {
   "cell_type": "markdown",
   "metadata": {},
   "source": [
    "## 3. Splitting data into the right train/validation sets\n",
    "\n",
    "The bad news is, we evaluated our model on the same data we trained it on.\n",
    "\n",
    "The good news is, we get to practice importing and preprocessing our data again. \n",
    "\n",
    "This time we'll make sure we've got separate training and validation splits. \n",
    "\n",
    "Previously, we used pandas to ensure our data was all numeric and had no missing values. \n",
    "\n",
    "And we can still use pandas for things such as creating/altering date-related columns.\n",
    "\n",
    "But using pandas for all of our data preprocessing can be an issue with larger scale datasets or when new data is introduced. \n",
    "\n",
    "How about this time we add Scikit-Learn to the mix and make a reproducible pipeline for our data preprocessing needs?\n",
    "\n",
    "> **Note:** Scikit-Learn has a fantastic guide on [data transformations](https://scikit-learn.org/1.5/data_transforms.html) and in particular [data preprocessing](https://scikit-learn.org/1.5/modules/preprocessing.html). I'd highly recommend spending an hour or so reading through this documentation, even if it doesn't make a lot of sense to begin with. Rest assured, with practice and experimentation you'll start to get the hang of it.\n",
    "\n",
    "According to the [Kaggle data page](https://www.kaggle.com/c/bluebook-for-bulldozers/data), the train, validation and test sets are split according to dates.\n",
    "\n",
    "This makes sense since we're working on a time series problem (using past sale prices to try and predict future sale prices).\n",
    "\n",
    "Knowing this, randomly splitting our data into train, validation and test sets using something like [`sklearn.model_selection.train_test_split()`](https://scikit-learn.org/1.5/modules/generated/sklearn.model_selection.train_test_split.html) wouldn't work as this would mix samples from different dates in an unintended way.\n",
    "\n",
    "Instead, we split our data into training, validation and test sets using the date each sample occured.\n",
    "\n",
    "In our case:\n",
    "\n",
    "* Training data (`Train.csv`) = all samples up until 2011.\n",
    "* Validation data (`Valid.csv`) = all samples form January 1, 2012 - April 30, 2012.\n",
    "* Testing data (`Test.csv`) = all samples from May 1, 2012 - November 2012.\n",
    "\n",
    "Previously we imported `TrainAndValid.csv` which is a combination of `Train.csv` and `Valid.csv` in one file.\n",
    "\n",
    "We could split this based on the `saledate` column.\n",
    "\n",
    "However, we could also import the `Train.csv` and `Valid.csv` files separately (we'll import `Test.csv` later on when we've trained a model).\n",
    "\n",
    "We'll also import `ValidSolution.csv` which contains the `SalePrice` of `Valid.csv` and make sure we match the columns based on the `SalesID` key.\n",
    "\n",
    "> **Note:** For more on making good training, validation and test sets, check out the post [How (and why) to create a good validation set](https://www.fast.ai/2017/11/13/validation-sets/) by Rachel Thomas as well as [The importance of a test set](https://www.learnml.io/posts/the-importance-of-a-test-set/) by Daniel Bourke."
   ]
  },
  {
   "cell_type": "code",
   "execution_count": null,
   "metadata": {},
   "outputs": [],
   "source": [
    "# Import train samples (making sure to parse dates and then sort by them)\n",
    "train_df = pd.read_csv(filepath_or_buffer=\"../data/bluebook-for-bulldozers/Train.csv\",\n",
    "                       parse_dates=[\"saledate\"],\n",
    "                       low_memory=False).sort_values(by=\"saledate\", ascending=True)\n",
    "\n",
    "# Import validation samples (making sure to parse dates and then sort by them)\n",
    "valid_df = pd.read_csv(filepath_or_buffer=\"../data/bluebook-for-bulldozers/Valid.csv\",\n",
    "                       parse_dates=[\"saledate\"])\n",
    "\n",
    "# The ValidSolution.csv contains the SalePrice values for the samples in Valid.csv\n",
    "valid_solution = pd.read_csv(filepath_or_buffer=\"../data/bluebook-for-bulldozers/ValidSolution.csv\")\n",
    "\n",
    "# Map valid_solution to valid_df\n",
    "valid_df[\"SalePrice\"] = valid_df[\"SalesID\"].map(valid_solution.set_index(\"SalesID\")[\"SalePrice\"])\n",
    "\n",
    "# Make sure valid_df is sorted by saledate still\n",
    "valid_df = valid_df.sort_values(\"saledate\", ascending=True).reset_index(drop=True)\n",
    "\n",
    "# How many samples are in each DataFrame?\n",
    "print(f\"[INFO] Number of samples in training DataFrame: {len(train_df)}\")\n",
    "print(f\"[INFO] Number of samples in validation DataFrame: {len(valid_df)}\")"
   ]
  },
  {
   "cell_type": "code",
   "execution_count": null,
   "metadata": {},
   "outputs": [],
   "source": [
    "# Let's check out the training DataFrame\n",
    "train_df.sample(5)"
   ]
  },
  {
   "cell_type": "code",
   "execution_count": null,
   "metadata": {},
   "outputs": [],
   "source": [
    "# And how about the validation DataFrame?\n",
    "valid_df.sample(5)"
   ]
  },
  {
   "cell_type": "markdown",
   "metadata": {},
   "source": [
    "Nice! \n",
    "\n",
    "We've now got separate training and validation datasets imported.\n",
    "\n",
    "In a previous section, we created a function to decompose the `saledate` column into multiple features such as `saleYear`, `saleMonth`, `saleDay` and more.\n",
    "\n",
    "Let's now replicate that function here and apply it to our `train_df` and `valid_df`."
   ]
  },
  {
   "cell_type": "code",
   "execution_count": null,
   "metadata": {},
   "outputs": [],
   "source": [
    "# Make a function to add date columns\n",
    "def add_datetime_features_to_df(df, date_column=\"saledate\"):\n",
    "    # Add datetime parameters for saledate\n",
    "    df[\"saleYear\"] = df[date_column].dt.year\n",
    "    df[\"saleMonth\"] = df[date_column].dt.month\n",
    "    df[\"saleDay\"] = df[date_column].dt.day\n",
    "    df[\"saleDayofweek\"] = df[date_column].dt.dayofweek\n",
    "    df[\"saleDayofyear\"] = df[date_column].dt.dayofyear\n",
    "\n",
    "    # Drop original saledate column\n",
    "    df.drop(\"saledate\", axis=1, inplace=True)\n",
    "\n",
    "    return df\n",
    "\n",
    "train_df = add_datetime_features_to_df(df=train_df)\n",
    "valid_df = add_datetime_features_to_df(df=valid_df)"
   ]
  },
  {
   "cell_type": "markdown",
   "metadata": {},
   "source": [
    "Wonderful, now let's make sure it worked by inspecting the last 5 columns of `train_df`."
   ]
  },
  {
   "cell_type": "code",
   "execution_count": null,
   "metadata": {},
   "outputs": [],
   "source": [
    "# Display the last 5 columns (the recently added datetime breakdowns)\n",
    "train_df.iloc[:, -5:].sample(5)"
   ]
  },
  {
   "cell_type": "markdown",
   "metadata": {},
   "source": [
    "Perfect! How about we try and fit a model?"
   ]
  },
  {
   "cell_type": "markdown",
   "metadata": {},
   "source": [
    "### 3.1 Trying to fit a model on our training data\n",
    "\n",
    "I'm a big fan of trying to fit a model on your dataset as early as possible.\n",
    "\n",
    "If it works, you'll have to inspect and check its results.\n",
    "\n",
    "And if it doesn't work, you'll get some insights into what you may have to do to your dataset to prepare it.\n",
    "\n",
    "Let's turn our DataFrames into features (`X`) by dropping the `SalePrice` column (this is the value we're trying to predict) and labels (`y`) by extracting the `SalePrice` column.\n",
    "\n",
    "Then we'll create a model using `sklearn.ensemble.RandomForestRegressor` and finally we'll try to fit it to only the training data."
   ]
  },
  {
   "cell_type": "code",
   "execution_count": null,
   "metadata": {},
   "outputs": [],
   "source": [
    "# Split training data into features and labels\n",
    "X_train = train_df.drop(\"SalePrice\", axis=1)\n",
    "y_train = train_df[\"SalePrice\"]\n",
    "\n",
    "# Split validation data into features and labels\n",
    "X_valid = valid_df.drop(\"SalePrice\", axis=1)\n",
    "y_valid = valid_df[\"SalePrice\"]\n",
    "\n",
    "# Create a model\n",
    "model = RandomForestRegressor(n_jobs=-1)\n",
    "\n",
    "# Fit a model to the training data only\n",
    "model.fit(X=X_train,\n",
    "          y=y_train)"
   ]
  },
  {
   "cell_type": "markdown",
   "metadata": {},
   "source": [
    "Oh no!\n",
    "\n",
    "We run into the error:\n",
    "\n",
    "> ValueError: could not convert string to float: 'Medium'\n",
    "\n",
    "Hmm... \n",
    "\n",
    "Where have we seen this error before?\n",
    "\n",
    "It looks like since we re-imported our training dataset (from `Train.csv`) its no longer all numerical (hence the `ValueError` above).\n",
    "\n",
    "Not to worry, we can fix this!"
   ]
  },
  {
   "cell_type": "markdown",
   "metadata": {},
   "source": [
    "### 3.2 Encoding categorical features as numbers using Scikit-Learn\n",
    "\n",
    "We've preprocessed our data previously with pandas.\n",
    "\n",
    "And while this is a viable approach, how about we practice using another method?\n",
    "\n",
    "This time we'll use Scikit-Learn's built-in preprocessing methods. \n",
    "\n",
    "Why?\n",
    "\n",
    "Because it's good exposure to different techniques.\n",
    "\n",
    "And Scikit-Learn has many built-in helpful and well tested methods for preparing data. \n",
    "\n",
    "You can also string together many of these methods and create a [reusable pipeline](https://scikit-learn.org/1.5/modules/generated/sklearn.pipeline.Pipeline.html) (you can think of this pipeline as plumbing for data).\n",
    "\n",
    "To preprocess our data with Scikit-Learn, we'll first define the numerical and categorical features of our dataset."
   ]
  },
  {
   "cell_type": "code",
   "execution_count": null,
   "metadata": {},
   "outputs": [],
   "source": [
    "# Define numerical and categorical features\n",
    "numerical_features = [label for label, content in X_train.items() if pd.api.types.is_numeric_dtype(content)]\n",
    "categorical_features = [label for label, content in X_train.items() if not pd.api.types.is_numeric_dtype(content)]\n",
    "\n",
    "print(f\"[INFO] Numeric features: {numerical_features}\")\n",
    "print(f\"[INFO] Categorical features: {categorical_features[:10]}...\")"
   ]
  },
  {
   "cell_type": "markdown",
   "metadata": {},
   "source": [
    "Nice!\n",
    "\n",
    "We define our different feature types so we can use different preprocessing methods on each type.\n",
    "\n",
    "Scikit-Learn has many built-in methods for preprocessing data under the [`sklearn.preprocessing` module](https://scikit-learn.org/stable/api/sklearn.preprocessing.html#).\n",
    "\n",
    "And I'd encourage you to spend some time reading the [preprocessing data section of the Scikit-Learn user guide](https://scikit-learn.org/stable/modules/preprocessing.html#preprocessing) for more details.\n",
    "\n",
    "For now, let's focus on turning our categorical features into numbers (from object/string datatype to numeric datatype).\n",
    "\n",
    "The practice of turning non-numerical features into numerical features is often referred to as [**encoding**](https://scikit-learn.org/stable/modules/preprocessing.html#encoding-categorical-features).\n",
    "\n",
    "There are several encoders available for different use cases.\n",
    "\n",
    "| Encoder | Description | Use case | For use on |\n",
    "| ----- | ----- | ----- | ----- |\n",
    "| [`LabelEncoder`](https://scikit-learn.org/stable/modules/generated/sklearn.preprocessing.LabelEncoder.html#sklearn.preprocessing.LabelEncoder) | Encode target labels with values between 0 and n_classes-1. | Useful for turning classification target values into numeric representations. | Target labels. |\n",
    "| [`OneHotEncoder`](https://scikit-learn.org/stable/modules/generated/sklearn.preprocessing.OneHotEncoder.html#onehotencoder) | Encode categorical features as a [one-hot numeric array](https://en.wikipedia.org/wiki/One-hot). | Turns every positive class of a unique category into a 1 and every negative class into a 0. | Categorical variables/features. |\n",
    "| [`OrdinalEncoder`](https://scikit-learn.org/stable/modules/generated/sklearn.preprocessing.OrdinalEncoder.html#ordinalencoder) | Encode categorical features as an integer array. | Turn unique categorical values into a range of integers, for example, 0 maps to 'cat', 1 maps to 'dog', etc. | Categorical variables/features. |\n",
    "| [`TargetEncoder`](https://scikit-learn.org/stable/modules/generated/sklearn.preprocessing.TargetEncoder.html#targetencoder) | Encode regression and classification targets into a shrunk estimate of the average target values for observations of the category. | Useful for converting targets into a certain range of values. | Target variables. |\n",
    "\n",
    "For our case, we're going to start with `OrdinalEncoder`.\n",
    "\n",
    "When transforming/encoding values with Scikit-Learn, the steps as follows:\n",
    "\n",
    "1. Instantiate an encoder, for example, `sklearn.preprocessing.OrdinalEncoder`.\n",
    "2. Use the [`sklearn.preprocessing.OrdinalEncoder.fit`](https://scikit-learn.org/stable/modules/generated/sklearn.preprocessing.OrdinalEncoder.html#sklearn.preprocessing.OrdinalEncoder.fit) method on the **training** data (this helps the encoder learn a mapping of categorical to numeric values).\n",
    "3. Use the [`sklearn.preprocessing.OrdinalEncoder.transform`](https://scikit-learn.org/stable/modules/generated/sklearn.preprocessing.OrdinalEncoder.html#sklearn.preprocessing.OrdinalEncoder.transform) method on the **training** data to apply the learned mapping from categorical to numeric values.\n",
    "    * **Note:** The [`sklearn.preprocessing.OrdinalEncoder.fit_transform`](https://scikit-learn.org/stable/modules/generated/sklearn.preprocessing.OrdinalEncoder.html#sklearn.preprocessing.OrdinalEncoder.fit_transform) method combines steps 1 & 2 into a single method.\n",
    "4. Apply the learned mapping to subsequent datasets such as **validation** and **test** splits using `sklearn.preprocessing.OrdinalEncoder.transform` only.\n",
    "\n",
    "Notice how the `fit` and `fit_transform` methods were reserved for the **training dataset only**.\n",
    "\n",
    "This is because in practice the validation and testing datasets are meant to be unseen, meaning only information from the training dataset should be used to preprocess the validation/test datasets.\n",
    "\n",
    "In short:\n",
    "\n",
    "1. Instantiate an encoder such as `sklearn.preprocessing.OrdinalEncoder`.\n",
    "2. Fit the encoder to and transform the training dataset categorical variables/features with `sklearn.preprocessing.OrdinalEncoder.fit_transform`.\n",
    "3. Transform categorical variables/features from subsequent datasets such as the validation and test datasets with the learned encoding from step 2 using `sklearn.preprocessing.OridinalEncoder.transform`. \n",
    "    * **Note:** Notice the use of the `transform` method on validation/test datasets rather than `fit_transform`.\n",
    "\n",
    "Let's do it!\n",
    "\n",
    "We'll use the `OrdinalEncoder` class to fill any missing values with `np.nan` (`NaN`).\n",
    "\n",
    "We'll also make sure to only use the `OrdinalEncoder` on the categorical features of our DataFrame.\n",
    "\n",
    "Finally, the `OrdinalEncoder` expects all input variables to be of the same type (e.g. either numeric only or string only) so we'll make sure all the input variables are strings only using [`pandas.DataFrame.astype(str)`](https://pandas.pydata.org/docs/reference/api/pandas.DataFrame.astype.html)."
   ]
  },
  {
   "cell_type": "code",
   "execution_count": null,
   "metadata": {},
   "outputs": [],
   "source": [
    "from sklearn.preprocessing import OrdinalEncoder\n",
    "\n",
    "# 1. Create an ordinal encoder (turns category items into numeric representation)\n",
    "ordinal_encoder = OrdinalEncoder(categories=\"auto\",\n",
    "                                 handle_unknown=\"use_encoded_value\",\n",
    "                                 unknown_value=np.nan,\n",
    "                                 encoded_missing_value=np.nan) # treat unknown categories as np.nan (or None)\n",
    "\n",
    "# 2. Fit and transform the categorical columns of X_train\n",
    "X_train_preprocessed = X_train.copy() # make copies of the oringal DataFrames so we can keep the original values in tact and view them later\n",
    "X_train_preprocessed[categorical_features] = ordinal_encoder.fit_transform(X_train_preprocessed[categorical_features].astype(str)) # OrdinalEncoder expects all values as the same type (e.g. string or numeric only)\n",
    "\n",
    "# 3. Transform the categorical columns of X_valid \n",
    "X_valid_preprocessed = X_valid.copy()\n",
    "X_valid_preprocessed[categorical_features] = ordinal_encoder.transform(X_valid_preprocessed[categorical_features].astype(str)) # only use `transform` on the validation data"
   ]
  },
  {
   "cell_type": "markdown",
   "metadata": {},
   "source": [
    "Wonderful! \n",
    "\n",
    "Let's see if it worked.\n",
    "\n",
    "First, we'll check out the original `X_train` DataFrame."
   ]
  },
  {
   "cell_type": "code",
   "execution_count": null,
   "metadata": {},
   "outputs": [],
   "source": [
    "X_train.head()"
   ]
  },
  {
   "cell_type": "markdown",
   "metadata": {},
   "source": [
    "And how about `X_train_preprocessed`?"
   ]
  },
  {
   "cell_type": "code",
   "execution_count": null,
   "metadata": {},
   "outputs": [],
   "source": [
    "X_train_preprocessed.head()"
   ]
  },
  {
   "cell_type": "markdown",
   "metadata": {},
   "source": [
    "Beautiful!\n",
    "\n",
    "Notice all of the non-numerical values in `X_train` have been converted to numerical values in `X_train_preprocessed`.\n",
    "\n",
    "Now how about missing values?\n",
    "\n",
    "Let's see the top 10 columns with the highest number of missing values from `X_train`."
   ]
  },
  {
   "cell_type": "code",
   "execution_count": null,
   "metadata": {},
   "outputs": [],
   "source": [
    "X_train[categorical_features].isna().sum().sort_values(ascending=False)[:10]"
   ]
  },
  {
   "cell_type": "markdown",
   "metadata": {},
   "source": [
    "Ok, plenty of missing values.\n",
    "\n",
    "How about `X_train_preprocessed`?"
   ]
  },
  {
   "cell_type": "code",
   "execution_count": null,
   "metadata": {},
   "outputs": [],
   "source": [
    "X_train_preprocessed[categorical_features].isna().sum().sort_values(ascending=False)[:10]"
   ]
  },
  {
   "cell_type": "markdown",
   "metadata": {},
   "source": [
    "Perfect! No missing values as well!\n",
    "\n",
    "Now, what if we wanted to retrieve the original categorical values?\n",
    "\n",
    "We can do using the [`OrdinalEncoder.categories_` attribute](https://scikit-learn.org/stable/modules/generated/sklearn.preprocessing.OrdinalEncoder.html#sklearn.preprocessing.OrdinalEncoder.fit_transform).\n",
    "\n",
    "This will return the categories of each feature found during `fit` (or during `fit_transform`), the categories will be in the order of the features seen (same order as the columns of the DataFrame)."
   ]
  },
  {
   "cell_type": "code",
   "execution_count": null,
   "metadata": {},
   "outputs": [],
   "source": [
    "# Let's inspect the first three categories\n",
    "ordinal_encoder.categories_[:3]"
   ]
  },
  {
   "cell_type": "markdown",
   "metadata": {},
   "source": [
    "Since these come in the order of the features seen, we can create a mapping of these using the categorical column names of our DataFrame."
   ]
  },
  {
   "cell_type": "code",
   "execution_count": null,
   "metadata": {},
   "outputs": [],
   "source": [
    "# Create a dictionary of dictionaries mapping column names and their variables to their numerical encoding\n",
    "column_to_category_mapping = {}\n",
    "\n",
    "for column_name, category_values in zip(categorical_features, ordinal_encoder.categories_):\n",
    "    int_to_category = {i: category for i, category in enumerate(category_values)}\n",
    "    column_to_category_mapping[column_name] = int_to_category\n",
    "\n",
    "# Inspect an example column name to category mapping\n",
    "column_to_category_mapping[\"UsageBand\"]"
   ]
  },
  {
   "cell_type": "markdown",
   "metadata": {},
   "source": [
    "We can also reverse our `OrdinalEncoder` values with the [`inverse_transform()`](https://scikit-learn.org/1.5/modules/generated/sklearn.preprocessing.OrdinalEncoder.html#sklearn.preprocessing.OrdinalEncoder.inverse_transform) method.\n",
    "\n",
    "This is helpful for reversing a preprocessing step or viewing the original data again if necessary."
   ]
  },
  {
   "cell_type": "code",
   "execution_count": null,
   "metadata": {},
   "outputs": [],
   "source": [
    "# Create a copy of the preprocessed DataFrame\n",
    "X_train_unprocessed = X_train_preprocessed[categorical_features].copy()\n",
    "\n",
    "# This will return an array of the original untransformed data\n",
    "X_train_unprocessed = ordinal_encoder.inverse_transform(X_train_unprocessed)\n",
    "\n",
    "# Turn back into a DataFrame for viewing pleasure\n",
    "X_train_unprocessed_df = pd.DataFrame(X_train_unprocessed, columns=categorical_features)\n",
    "\n",
    "# Check out a sample\n",
    "X_train_unprocessed_df.sample(5)"
   ]
  },
  {
   "cell_type": "markdown",
   "metadata": {},
   "source": [
    "Nice!\n",
    "\n",
    "Now how about we try fitting a model again?"
   ]
  },
  {
   "cell_type": "markdown",
   "metadata": {},
   "source": [
    "### 3.3 Fitting a model to our preprocessed training data\n",
    "\n",
    "We've used Scikit-Learn to convert the categorical data in our training and validation sets into numbers.\n",
    "\n",
    "But we haven't yet done anything with missing numerical values.\n",
    "\n",
    "As it turns out, we can still try and fit a model.\n",
    "\n",
    "Why?\n",
    "\n",
    "Because there are several estimators/models in Scikit-Learn that can handle missing (`NaN`) values.\n",
    "\n",
    "And our trusty `sklearn.ensemble.RandomForestRegressor` is one of them!\n",
    "\n",
    "Let's try it out on our `X_train_preprocessed` DataFrame.\n",
    "\n",
    "> **Note:** For a list of all Scikit-Learn estimators that can handle `NaN` values, check out the [Scikit-Learn imputation of missing values user guide](https://scikit-learn.org/1.5/modules/impute.html#estimators-that-handle-nan-values). "
   ]
  },
  {
   "cell_type": "code",
   "execution_count": null,
   "metadata": {},
   "outputs": [],
   "source": [
    "%%time\n",
    "\n",
    "# Instantiate a Random Forest Regression model\n",
    "model = RandomForestRegressor(n_jobs=-1)\n",
    "\n",
    "# Fit the model to the preprocessed training data\n",
    "model.fit(X=X_train_preprocessed,\n",
    "          y=y_train)"
   ]
  },
  {
   "cell_type": "markdown",
   "metadata": {},
   "source": [
    "It worked!\n",
    "\n",
    "Now you might be thinking, \"well if we could fit a model on a dataset with missing values, why did we bother filling them before?\"\n",
    "\n",
    "And that's a great question.\n",
    "\n",
    "The main reason is to *practice, practice, practice*. \n",
    "\n",
    "While there are some models which can handle missing values, others can't.\n",
    "\n",
    "So it's good to have experience with both of these scenarios.\n",
    "\n",
    "Let's see how our model scores on the validation set, data our model has never seen."
   ]
  },
  {
   "cell_type": "code",
   "execution_count": null,
   "metadata": {},
   "outputs": [],
   "source": [
    "%%time\n",
    "\n",
    "# Check model performance on the validation set\n",
    "model.score(X=X_valid,\n",
    "            y=y_valid)"
   ]
  },
  {
   "cell_type": "markdown",
   "metadata": {},
   "source": [
    "Oops!\n",
    "\n",
    "Looks like we get an error:\n",
    "\n",
    "> `ValueError: could not convert string to float: 'Low'`\n",
    "\n",
    "This is because we tried to evaluate our model on the original `X_valid` dataset which still contains strings rather than `X_valid_preprocessed` which contains all numerical values.\n",
    "\n",
    "As we've discussed before, in machine learning problems, it's important to **evaluate your models on data in the same format as they were trained on**.\n",
    "\n",
    "Knowing this, let's evaluate our model on our preprocessed validation dataset."
   ]
  },
  {
   "cell_type": "code",
   "execution_count": null,
   "metadata": {},
   "outputs": [],
   "source": [
    "%%time\n",
    "\n",
    "# Check model performance on the validation set\n",
    "model.score(X=X_valid_preprocessed,\n",
    "            y=y_valid)"
   ]
  },
  {
   "cell_type": "markdown",
   "metadata": {},
   "source": [
    "Excellent!\n",
    "\n",
    "Now you might be wondering why this score ($R^2$ or R-squared by default) is lower than the previous score of ~0.9875.\n",
    "\n",
    "That's because this score is based on a model that has only seen the training data and is being evaluated on an unseen dataset (training on `Train.csv`, evaluating on `Valid.csv`).\n",
    "\n",
    "Our previous score was from a model that had all of the evaluation samples in the training data (training and evaluating on `TrainAndValid.csv`).\n",
    "\n",
    "So in practice, we would consider the most recent score as a much more reliable metric of how well our model might perform on future unseen data.\n",
    "\n",
    "Just for fun, let's see how our model scores on the training dataset."
   ]
  },
  {
   "cell_type": "code",
   "execution_count": null,
   "metadata": {},
   "outputs": [],
   "source": [
    "%%time\n",
    "\n",
    "# Check model performance on the training set\n",
    "model.score(X=X_train_preprocessed,\n",
    "            y=y_train)"
   ]
  },
  {
   "cell_type": "markdown",
   "metadata": {},
   "source": [
    "As expected our model performs better on the training set than the validation set.\n",
    "\n",
    "It also scores much closer to the previous score of ~0.9875 we obtained when training and scoring on `TrainAndValid.csv` combined.\n",
    "\n",
    "> **Note:** It is common to see a model perform slightly worse on a validation/testing dataset than on a training set. This is because the model has seen all of the examples in the training set, where as, if done correctly, the validation and test sets are keep separate during training. So you would expect a model to do better on problems that it has seen before versus problems it hasn't. If you find your model scoring much higher on unseen data versus seen data (e.g. higher scores on the test set compared to the training set), you might want to inspect your data to make sure there isn't any leakage from the validation/test set into the training set."
   ]
  },
  {
   "cell_type": "markdown",
   "metadata": {},
   "source": [
    "## 4. Building an evaluation function\n",
    "\n",
    "Evaluating a machine learning model is just as important as training one.\n",
    "\n",
    "And so because of this, let's create an evaluation function to make evaluation faster and reproducible.\n",
    "\n",
    "According to Kaggle for the Bluebook for Bulldozers competition, [the evaluation function](https://www.kaggle.com/c/bluebook-for-bulldozers/overview/evaluation) they use is root mean squared log error (RMSLE).\n",
    "\n",
    "$$ \\text{RMSLE} = \\sqrt{\\frac{1}{n} \\sum_{i=1}^{n} \\left( \\log(1 + \\hat{y}_i) - \\log(1 + y_i) \\right)^2} $$\n",
    "\n",
    "Where:\n",
    "\n",
    "* $ \\hat{y}_i $ is the predicted value,  \n",
    "* $ y_i $ is the actual value,  \n",
    "* $ n $ is the number of observations.\n",
    "\n",
    "Contrast this with mean absolute error (MAE), another common regression metric.\n",
    "\n",
    "$$ \\text{MAE} = \\frac{1}{n} \\sum_{i=1}^{n} \\left| \\hat{y}_i - y_i \\right| $$\n",
    "\n",
    "With RMSLE, the relative error is more meaningful than the absolute error. You care more about ratios than absolute errors. For example, being off by $100 on a $1000 prediction (10% error) is more significant than being off by $100 on a $10,000 prediction (1% error). RMSLE is sensitive to large percentage errors.\n",
    "\n",
    "Where as with MAE, is more about exact differences, a $100 prediction error is weighted the same regardless of the actual value.\n",
    "\n",
    "In each of case, a lower value (closer to 0) is better.\n",
    "\n",
    "For any problem, it's important to define the evaluation metric you're going to try and improve on.\n",
    "\n",
    "In our case, let's create a function that calculates multiple evaluation metrics.\n",
    "\n",
    "Namely, we'll use:\n",
    "\n",
    "* MAE (mean absolute error) via [`sklearn.metrics.mean_absolute_error`](https://scikit-learn.org/1.5/modules/generated/sklearn.metrics.mean_absolute_error.html) - lower is better.\n",
    "* RMSLE (root mean squared log error) via [`sklearn.metrics.root_mean_squared_log_error`](https://scikit-learn.org/1.5/modules/generated/sklearn.metrics.root_mean_squared_log_error.html) - lower is better.\n",
    "* $R^2$ (R-squared or coefficient of determination) via the [`score` method](https://scikit-learn.org/dev/modules/generated/sklearn.ensemble.RandomForestRegressor.html#sklearn.ensemble.RandomForestRegressor.score) - higher is better.\n",
    "\n",
    "For MAE and RMSLE we'll be comparing the model's predictions to the truth labels.\n",
    "\n",
    "We can get an array of predicted values from our model using [`model.predict(X=features_to_predict_on)`](https://scikit-learn.org/dev/modules/generated/sklearn.ensemble.RandomForestRegressor.html#sklearn.ensemble.RandomForestRegressor.predict). "
   ]
  },
  {
   "cell_type": "code",
   "execution_count": null,
   "metadata": {},
   "outputs": [],
   "source": [
    "# Create evaluation function (the competition uses Root Mean Square Log Error)\n",
    "from sklearn.metrics import mean_absolute_error, root_mean_squared_log_error\n",
    "\n",
    "# Create function to evaluate our model\n",
    "def show_scores(model, \n",
    "                train_features=X_train_preprocessed,\n",
    "                train_labels=y_train,\n",
    "                valid_features=X_valid_preprocessed,\n",
    "                valid_labels=y_valid):\n",
    "    \n",
    "    # Make predictions on train and validation features\n",
    "    train_preds = model.predict(X=train_features)\n",
    "    val_preds = model.predict(X=valid_features)\n",
    "\n",
    "    # Create a scores dictionary of different evaluation metrics\n",
    "    scores = {\"Training MAE\": mean_absolute_error(y_true=train_labels, \n",
    "                                                  y_pred=train_preds),\n",
    "              \"Valid MAE\": mean_absolute_error(y_true=valid_labels, \n",
    "                                               y_pred=val_preds),\n",
    "              \"Training RMSLE\": root_mean_squared_log_error(y_true=train_labels, \n",
    "                                                            y_pred=train_preds),\n",
    "              \"Valid RMSLE\": root_mean_squared_log_error(y_true=valid_labels, \n",
    "                                                         y_pred=val_preds),\n",
    "              \"Training R^2\": model.score(X=train_features, \n",
    "                                          y=train_labels),\n",
    "              \"Valid R^2\": model.score(X=valid_features, \n",
    "                                       y=valid_labels)}\n",
    "    return scores"
   ]
  },
  {
   "cell_type": "markdown",
   "metadata": {},
   "source": [
    "Now that's a nice looking function!\n",
    "\n",
    "How about we test it out?"
   ]
  },
  {
   "cell_type": "code",
   "execution_count": null,
   "metadata": {},
   "outputs": [],
   "source": [
    "# Try our model scoring function out\n",
    "model_scores = show_scores(model=model)\n",
    "model_scores"
   ]
  },
  {
   "cell_type": "markdown",
   "metadata": {},
   "source": [
    "Beautiful!\n",
    "\n",
    "Now we can reuse this in the future for evaluating other models."
   ]
  },
  {
   "cell_type": "markdown",
   "metadata": {},
   "source": [
    "## 5. Tuning our model's hyperparameters\n",
    "\n",
    "Hyperparameters are the settings we can change on our model.\n",
    "\n",
    "And tuning hyperparameters on a given model can often alter its performance on a given dataset.\n",
    "\n",
    "Ideally, changing hyperparameters would lead to better results.\n",
    "\n",
    "However, it's often hard to know what hyperparameter changes would improve a model ahead of time.\n",
    "\n",
    "So what we can do is run several experiments across various different hyperparameter settings and record which lead to the best results."
   ]
  },
  {
   "cell_type": "markdown",
   "metadata": {},
   "source": [
    "### 5.1 Making our modelling experiments faster (to speed up hyperparameter tuning)\n",
    "\n",
    "Because of the size of our dataset (~400,000 rows), retraining an entire model (about 1-1.5 minutes on my MacBook Pro M1 Pro) for each new set of hyperparameters would take far too long to continuing experimenting as fast as we want to.\n",
    "\n",
    "So what we'll do is take a sample of the training set and tune the hyperparameters on that before training a larger model.\n",
    "\n",
    "> **Note:** If you're experiments are taking longer than 10-seconds (or far longer than what you can interact with), you should be trying to speed things up. You can speed experiments up by sampling less data, using a faster computer or using a smaller model.\n",
    "\n",
    "We can take a artificial sample of the training set by altering the number of samples seen by each `n_estimator` (an `n_estimator` is a [decision tree](https://en.wikipedia.org/wiki/Decision_tree_learning) a random forest will create during training, more trees generally leads to better performance but sacrifices compute time) in [`sklearn.ensemble.RandomForestRegressor`](https://scikit-learn.org/stable/modules/generated/sklearn.ensemble.RandomForestRegressor.html) using the `max_samples` parameter.\n",
    "\n",
    "For example, setting `max_samples` to 10,000 means every `n_estimator` (default 100) in our `RandomForestRegressor` will only see 10,000 random samples from our DataFrame instead of the entire ~400,000.\n",
    "\n",
    "In other words, we'll be looking at 40x less samples which means we should get faster computation speeds but we should also  expect our results to worsen (because the model has less samples to learn patterns from).\n",
    "\n",
    "Let's see if reducing the number samples speeds up our modelling time."
   ]
  },
  {
   "cell_type": "code",
   "execution_count": null,
   "metadata": {},
   "outputs": [],
   "source": [
    "%%time\n",
    "\n",
    "# Change max samples in RandomForestRegressor\n",
    "model = RandomForestRegressor(n_estimators=100, # this is the default\n",
    "                              n_jobs=-1,\n",
    "                              max_samples=10000) # each estimator sees max_samples (the default is to see all available samples)\n",
    "\n",
    "# Cutting down the max number of samples each tree can see improves training time\n",
    "model.fit(X_train_preprocessed, \n",
    "          y_train)"
   ]
  },
  {
   "cell_type": "markdown",
   "metadata": {},
   "source": [
    "Nice! That worked much faster than training on the whole dataset.\n",
    "\n",
    "Let's evaluate our model with our `show_scores` function."
   ]
  },
  {
   "cell_type": "code",
   "execution_count": null,
   "metadata": {},
   "outputs": [],
   "source": [
    "# Get evaluation metrics from reduced sample model\n",
    "base_model_scores = show_scores(model=model)\n",
    "base_model_scores"
   ]
  },
  {
   "cell_type": "markdown",
   "metadata": {},
   "source": [
    "Excellent! Even though our new model saw far less data than the previous model, it still looks to be performing quite well.\n",
    "\n",
    "With this faster model, we can start to run a series of different hyperparameter experiments."
   ]
  },
  {
   "cell_type": "markdown",
   "metadata": {},
   "source": [
    "### 5.2 Hyperparameter tuning with RandomizedSearchCV\n",
    "\n",
    "The goal of hyperparameter tuning is to values for our model's settings which lead to better results.\n",
    "\n",
    "We could sit there and do this by hand, adjusting parameters on `sklearn.ensemble.RandomForestRegressor` such as `n_estimators`, `max_depth`, `min_samples_split` and more.\n",
    "\n",
    "However, this would quite tedious.\n",
    "\n",
    "Instead, we can define a dictionary of hyperparametmer settings in the form `{\"hyperparamter_name\": [values_to_test]}` and then use [`sklearn.model_selection.RandomizedSearchCV`](https://scikit-learn.org/stable/modules/generated/sklearn.model_selection.RandomizedSearchCV.html#randomizedsearchcv) (randomly search for best combination of hyperparameters) or [`sklearn.model_selection.GridSearchCV`](https://scikit-learn.org/stable/modules/generated/sklearn.model_selection.GridSearchCV.html#gridsearchcv) (exhaustively search for best combination of hyperparameters) to go through all of these settings for us on a given model and dataset and then record which perform best.\n",
    "\n",
    "A general workflow is to start with a large number and wide range of potential settings and use `RandomizedSearchCV` to search across these randomly for a limited number of iterations (e.g. `n_iter=10`).\n",
    "\n",
    "And then take the best results and narrow the search space down before exhaustively search for the best hyperparameters with `GridSearchCV`.\n",
    "\n",
    "Let's start trying to find better hyperparameters by:\n",
    "\n",
    "1. Define a dictionary of hyperparameter values for our `RandomForestRegressor` model. We'll keep `max_samples=10000` so our experiments run faster.\n",
    "2. Setup an instance of `RandomizedSearchCV` to explore the parameter values defined in step 1. We can adjust how many sets of hyperparameters our model tries using the `n_iter` parameter as well as how many times our model performs cross-validation using the `cv` parameter. For example, setting `n_iter=20` and `cv=3` means there will be 3 cross-validation folds for each of the 20 different combinations of hyperparameters, a total of 60 (3*20) experiments.\n",
    "3. Fit the instance of `RandomizedSearchCV` to the data. This will automatically go through the defined number of iterations and record the results for each. The best model gets loaded at the end.\n",
    "\n",
    "> **Note:** You can read more about the [tuning of hyperparameters of an esimator/model in the Scikit-Learn user guide](https://scikit-learn.org/stable/modules/grid_search.html#tuning-the-hyper-parameters-of-an-estimator). "
   ]
  },
  {
   "cell_type": "code",
   "execution_count": null,
   "metadata": {},
   "outputs": [],
   "source": [
    "%%time\n",
    "\n",
    "from sklearn.model_selection import RandomizedSearchCV\n",
    "\n",
    "# 1. Define a dictionary with different values for RandomForestRegressor hyperparameters\n",
    "# See documatation for potential different values - https://scikit-learn.org/stable/modules/generated/sklearn.ensemble.RandomForestRegressor.html \n",
    "rf_grid = {\"n_estimators\": np.arange(10, 200, 10),\n",
    "           \"max_depth\": [None, 10, 20],\n",
    "           \"min_samples_split\": np.arange(2, 10, 1), # min_samples_split must be an int in the range [2, inf) or a float in the range (0.0, 1.0]\n",
    "           \"min_samples_leaf\": np.arange(1, 10, 1),\n",
    "           \"max_features\": [0.5, 1.0, \"sqrt\"], # Note: \"max_features='auto'\" is equivalent to \"max_features=1.0\", as of Scikit-Learn version 1.1\n",
    "           \"max_samples\": [10000]}\n",
    "\n",
    "# 2. Setup instance of RandomizedSearchCV to explore different parameters \n",
    "rs_model = RandomizedSearchCV(estimator=RandomForestRegressor(), # can pass new model instance directly, all settings will be taken from the rf_grid\n",
    "                              param_distributions=rf_grid,\n",
    "                              n_iter=20,\n",
    "                            #   scoring=\"neg_root_mean_squared_log_error\", # want to optimize for RMSLE, though sometimes optimizing for the default metric (R^2) can lead to just as good results all round\n",
    "                              cv=3,\n",
    "                              verbose=3) # control how much output gets produced, higher number = more output\n",
    "\n",
    "# 3. Fit the model using a series of different hyperparameter values\n",
    "rs_model.fit(X=X_train_preprocessed, \n",
    "             y=y_train)"
   ]
  },
  {
   "cell_type": "markdown",
   "metadata": {},
   "source": [
    "Phew! That's quite a bit of testing!\n",
    "\n",
    "Good news for us is that we can check the best hyperparameters with the `best_params_` attribute."
   ]
  },
  {
   "cell_type": "code",
   "execution_count": null,
   "metadata": {},
   "outputs": [],
   "source": [
    "# Find the best parameters from RandomizedSearchCV\n",
    "rs_model.best_params_"
   ]
  },
  {
   "cell_type": "markdown",
   "metadata": {},
   "source": [
    "And we can evaluate this model with our `show_scores` function."
   ]
  },
  {
   "cell_type": "code",
   "execution_count": null,
   "metadata": {},
   "outputs": [],
   "source": [
    "# Evaluate the RandomizedSearch model\n",
    "rs_model_scores = show_scores(rs_model)\n",
    "rs_model_scores"
   ]
  },
  {
   "cell_type": "markdown",
   "metadata": {},
   "source": [
    "### 5.3 Training a model with the best hyperparameters\n",
    "\n",
    "Like all good machine learning cooking shows, I prepared a model earlier. \n",
    "\n",
    "I tried 100 different combinations of hyperparameters (setting `n_iter=100` in `RandomizedSearchCV`) and found the best results came from the settings below.\n",
    "\n",
    "* `n_estimators=90`\n",
    "* `max_depth=None`\n",
    "* `min_samples_leaf=1`\n",
    "* `min_samples_split=5`\n",
    "* `max_features=0.5`\n",
    "* `n_jobs=-1`\n",
    "* `max_samples=None`\n",
    "\n",
    "> **Note:** This search (`n_iter=100`) took ~2-hours on my MacBook Pro M1 Pro. So it's kind of a set and come back later experiment. That's one of the things you'll have to get used to as a machine learning engineer, figuring out what to do whilst your model trains. I like to go for long walks or to the gym (rule of thumb: while my model trains, I train).\n",
    "\n",
    "We'll instantiate a new model with these discovered hyperparameters and reset the `max_samples` back to its original value."
   ]
  },
  {
   "cell_type": "code",
   "execution_count": null,
   "metadata": {},
   "outputs": [],
   "source": [
    "%%time\n",
    "\n",
    "# Create a model with best found hyperparameters \n",
    "# Note: There may be better values out there with longer searches but these are \n",
    "# the best I found with a ~2 hour search. A good challenge would be to see if you \n",
    "# can find better values.\n",
    "ideal_model = RandomForestRegressor(n_estimators=90,\n",
    "                                    max_depth=None,\n",
    "                                    min_samples_leaf=1,\n",
    "                                    min_samples_split=5,\n",
    "                                    max_features=0.5,\n",
    "                                    n_jobs=-1,\n",
    "                                    max_samples=None)\n",
    "\n",
    "# Fit a model to the preprocessed data\n",
    "ideal_model.fit(X=X_train_preprocessed, \n",
    "                y=y_train)"
   ]
  },
  {
   "cell_type": "markdown",
   "metadata": {},
   "source": [
    "And of course, we can evaluate our `ideal_model` with our `show_scores` function."
   ]
  },
  {
   "cell_type": "code",
   "execution_count": null,
   "metadata": {},
   "outputs": [],
   "source": [
    "%%time\n",
    "\n",
    "# Evaluate ideal model\n",
    "ideal_model_scores = show_scores(model=ideal_model)\n",
    "ideal_model_scores"
   ]
  },
  {
   "cell_type": "markdown",
   "metadata": {},
   "source": [
    "Woohoo!\n",
    "\n",
    "With these new hyperparameters as well as using all the samples, we can see an improvement to our models performance.\n",
    "\n",
    "One thing to keep in mind is that a larger model isn't always the best for a given problem even if it performs better.\n",
    "\n",
    "For example, you may require a model that performs inference (makes predictions) very fast with a slight tradeoff to performance.\n",
    "\n",
    "One way to a faster model is by altering some of the hyperparameters to create a smaller overall model. \n",
    "\n",
    "Particularly by lowering `n_estimators` since each increase in `n_estimators` is basically building another small model.\n",
    "\n",
    "Let's half our `n_estimators` value and see how it goes."
   ]
  },
  {
   "cell_type": "code",
   "execution_count": null,
   "metadata": {},
   "outputs": [],
   "source": [
    "%%time\n",
    "\n",
    "# Halve the number of estimators\n",
    "fast_model = RandomForestRegressor(n_estimators=45,\n",
    "                                   max_depth=None,\n",
    "                                   min_samples_leaf=1,\n",
    "                                   min_samples_split=5,\n",
    "                                   max_features=0.5,\n",
    "                                   n_jobs=-1,\n",
    "                                   max_samples=None)\n",
    "\n",
    "# Fit the faster model to the data\n",
    "fast_model.fit(X=X_train_preprocessed, \n",
    "               y=y_train)"
   ]
  },
  {
   "cell_type": "markdown",
   "metadata": {},
   "source": [
    "Nice! The faster model fits to the training data in about half the time of the full model.\n",
    "\n",
    "Now how does it go on performance?\n"
   ]
  },
  {
   "cell_type": "code",
   "execution_count": null,
   "metadata": {},
   "outputs": [],
   "source": [
    "%%time\n",
    "\n",
    "# Get results from the fast model\n",
    "fast_model_scores = show_scores(model=fast_model)\n",
    "fast_model_scores"
   ]
  },
  {
   "cell_type": "markdown",
   "metadata": {},
   "source": [
    "Woah! Looks like our faster model evaluates (performs inference/makes predictions) in about half the time too.\n",
    "\n",
    "And only for a small tradeoff in validation RMSLE performance."
   ]
  },
  {
   "cell_type": "markdown",
   "metadata": {},
   "source": [
    "### 5.4 Comparing our model's scores\n",
    "\n",
    "We've built four models so far with varying amounts of data and hyperparameters.\n",
    "\n",
    "Let's compile the results into a DataFrame and then make a plot to compare them."
   ]
  },
  {
   "cell_type": "code",
   "execution_count": null,
   "metadata": {},
   "outputs": [],
   "source": [
    "# Add names of models to dictionaries\n",
    "base_model_scores[\"model_name\"] = \"default_model\"\n",
    "rs_model_scores[\"model_name\"] = \"random_search_model\"\n",
    "ideal_model_scores[\"model_name\"] = \"ideal_model\" \n",
    "fast_model_scores[\"model_name\"] = \"fast_model\" \n",
    "\n",
    "# Turn all model score dictionaries into a list\n",
    "all_model_scores = [base_model_scores, \n",
    "                    rs_model_scores, \n",
    "                    ideal_model_scores,\n",
    "                    fast_model_scores]\n",
    "\n",
    "# Create DataFrame and sort model scores by validation RMSLE\n",
    "model_comparison_df = pd.DataFrame(all_model_scores).sort_values(by=\"Valid RMSLE\", ascending=False)\n",
    "model_comparison_df.head()"
   ]
  },
  {
   "cell_type": "markdown",
   "metadata": {},
   "source": [
    "Now we've got our model result data in a DataFrame, let's turn it into a bar plot comparing the validation RMSLE of each model."
   ]
  },
  {
   "cell_type": "code",
   "execution_count": null,
   "metadata": {},
   "outputs": [],
   "source": [
    "# Get mean RSMLE score of all models\n",
    "mean_rsmle_score = model_comparison_df[\"Valid RMSLE\"].mean()\n",
    "\n",
    "# Plot validation RMSLE against each other \n",
    "plt.figure(figsize=(10, 5))\n",
    "plt.bar(x=model_comparison_df[\"model_name\"],\n",
    "        height=model_comparison_df[\"Valid RMSLE\"].values)\n",
    "plt.xlabel(\"Model\")\n",
    "plt.ylabel(\"Validation RMSLE (lower is better)\")\n",
    "plt.xticks(rotation=0, fontsize=10);\n",
    "plt.axhline(y=mean_rsmle_score, \n",
    "            color=\"red\", \n",
    "            linestyle=\"--\", \n",
    "            label=f\"Mean RMSLE: {mean_rsmle_score:.4f}\")\n",
    "plt.legend();"
   ]
  },
  {
   "cell_type": "markdown",
   "metadata": {},
   "source": [
    "By the looks of the plot, our `ideal_model` is indeed the ideal model, slightly edging out `fast_model` in terms of validation RMSLE."
   ]
  },
  {
   "cell_type": "markdown",
   "metadata": {},
   "source": [
    "## 6. Saving our best model to file\n",
    "\n",
    "Since we've confirmed our best model as our `ideal_model` object, we can save it to file so we can load it in later and use it without having to retrain it.\n",
    "\n",
    "> **Note:** For more on model saving options with Scikit-Learn, see the [documentation on model persistence](https://scikit-learn.org/stable/model_persistence.html).\n",
    "\n",
    "To save our model we can use the [`joblib.dump`](https://joblib.readthedocs.io/en/stable/generated/joblib.dump.html) method."
   ]
  },
  {
   "cell_type": "code",
   "execution_count": null,
   "metadata": {},
   "outputs": [],
   "source": [
    "import joblib\n",
    "\n",
    "bulldozer_price_prediction_model_name = \"randomforest_regressor_best_RMSLE.pkl\"\n",
    "\n",
    "# Save model to file\n",
    "joblib.dump(value=ideal_model, \n",
    "            filename=bulldozer_price_prediction_model_name)"
   ]
  },
  {
   "cell_type": "markdown",
   "metadata": {},
   "source": [
    "And to load our model we can use the [`joblib.load`](https://joblib.readthedocs.io/en/stable/generated/joblib.load.html) method."
   ]
  },
  {
   "cell_type": "code",
   "execution_count": null,
   "metadata": {},
   "outputs": [],
   "source": [
    "# Load the best model\n",
    "best_model = joblib.load(filename=bulldozer_price_prediction_model_name)\n",
    "best_model"
   ]
  },
  {
   "cell_type": "markdown",
   "metadata": {},
   "source": [
    "We can make sure our model saving and loading worked by evaluating our `best_model` with `show_scores`."
   ]
  },
  {
   "cell_type": "code",
   "execution_count": null,
   "metadata": {},
   "outputs": [],
   "source": [
    "# Confirm that the model works\n",
    "best_model_scores = show_scores(model=best_model)\n",
    "best_model_scores"
   ]
  },
  {
   "cell_type": "markdown",
   "metadata": {},
   "source": [
    "And to confirm our `ideal_model` and `best_model` results are very close (if not the exact same), we can compare them with:\n",
    "* The equality operator `==`.\n",
    "* [`np.iclose`](https://numpy.org/doc/stable/reference/generated/numpy.isclose.html) and setting the absolute tolerance (`atol`) to `1e-4`."
   ]
  },
  {
   "cell_type": "code",
   "execution_count": null,
   "metadata": {},
   "outputs": [],
   "source": [
    "# See if loaded model and pre-saved model results are the same\n",
    "# Note: these values may be very slightly different depending on how precise your computer stores values.\n",
    "best_model_scores[\"Valid RMSLE\"] == ideal_model_scores[\"Valid RMSLE\"]"
   ]
  },
  {
   "cell_type": "code",
   "execution_count": null,
   "metadata": {},
   "outputs": [],
   "source": [
    "# Is the loaded model as good as the non-loaded model?\n",
    "if np.isclose(a=best_model_scores[\"Valid RMSLE\"], \n",
    "              b=ideal_model_scores[\"Valid RMSLE\"],\n",
    "              atol=1e-4): # Make sure values are within 0.0001 of each other\n",
    "    print(f\"[INFO] Model results are close!\")\n",
    "else:\n",
    "    print(f\"[INFO] Model results aren't close, did something go wrong?\")"
   ]
  },
  {
   "cell_type": "markdown",
   "metadata": {},
   "source": [
    "> **Note:** When saving and loading a model, it is often the case to have very slightly different values at the extremes. For example, the pre-saved model may have an RMSLE of `0.24654150224930685` where as the loaded model may have an RMSLE of `0.24654150224930684` where in this case the values are off by `0.00000000000000001` (a very small number). This is due to the [precision of computing](https://en.wikipedia.org/wiki/Precision_(computer_science)) and the way computers store values, where numbers are exact but can be represented up to a certain amount of precision. This is why we generally compare results with many decimals using `np.isclose` rather than the `==` operator."
   ]
  },
  {
   "cell_type": "markdown",
   "metadata": {},
   "source": [
    "## 7. Making predictions on test data\n",
    "\n",
    "Now we've got a trained model saved and loaded, it's time to make predictions on the test data.\n",
    "\n",
    "Our model is trained on data prior to 2011, however, the test data is from May 1 2012 to November 2012.\n",
    "\n",
    "So what we're doing is trying to use the patterns our model has learned from the training data to predict the sale price of a bulldozer with characteristics it's never seen before but are assumed to be similar to that of those in the training data.\n",
    "\n",
    "Let's load in the test data from `Test.csv`, we'll make sure to parse the dates of the `saledate` column."
   ]
  },
  {
   "cell_type": "code",
   "execution_count": null,
   "metadata": {},
   "outputs": [],
   "source": [
    "# Load the test data\n",
    "test_df = pd.read_csv(filepath_or_buffer=\"../data/bluebook-for-bulldozers/Test.csv\",\n",
    "                      parse_dates=[\"saledate\"])\n",
    "test_df.head()"
   ]
  },
  {
   "cell_type": "markdown",
   "metadata": {},
   "source": [
    "You might notice that the `test_df` is missing the `SalePrice` column.\n",
    "\n",
    "That's because that's the variable we're trying to predict based on all of the other variables.\n",
    "\n",
    "We can make predictions with our `best_model` using the [`predict` method](https://scikit-learn.org/stable/modules/generated/sklearn.ensemble.RandomForestRegressor.html#sklearn.ensemble.RandomForestRegressor.predict)."
   ]
  },
  {
   "cell_type": "code",
   "execution_count": null,
   "metadata": {},
   "outputs": [],
   "source": [
    "# Let's see how the model goes predicting on the test data\n",
    "test_preds = best_model.predict(X=test_df)"
   ]
  },
  {
   "cell_type": "markdown",
   "metadata": {},
   "source": [
    "Oh no!\n",
    "\n",
    "We get an error:\n",
    "\n",
    "> ValueError: The feature names should match those that were passed during fit.\n",
    "> Feature names unseen at fit time:\n",
    "> - saledate\n",
    "> Feature names seen at fit time, yet now missing:\n",
    "> - saleDay\n",
    "> - saleDayofweek\n",
    "> - saleDayofyear\n",
    "> - saleMonth\n",
    "> - saleYear\n",
    "\n",
    "Ahhh... the test data isn't in the same format of our other data, so we have to fix it. "
   ]
  },
  {
   "cell_type": "markdown",
   "metadata": {},
   "source": [
    "### 7.1 Preprocessing the test data (to be in the same format as the training data)\n",
    "\n",
    "Our model has been trained on data preprocessed in a certain way. \n",
    "\n",
    "This means in order to make predictions on the test data, we need to take the same steps we used to preprocess the training data to preprocess the test data.\n",
    "\n",
    "Remember, whatever you do to preprocess the training data, you have to do to the test data.\n",
    "\n",
    "Let's recreate the steps we used for preprocessing the training data except this time we'll do it on the test data.  \n",
    "\n",
    "First, we'll add the extra date features to breakdown the `saledate` column."
   ]
  },
  {
   "cell_type": "code",
   "execution_count": null,
   "metadata": {},
   "outputs": [],
   "source": [
    "# Make a function to add date columns\n",
    "def add_datetime_features_to_df(df, date_column=\"saledate\"):\n",
    "    # Add datetime parameters for saledate\n",
    "    df[\"saleYear\"] = df[date_column].dt.year\n",
    "    df[\"saleMonth\"] = df[date_column].dt.month\n",
    "    df[\"saleDay\"] = df[date_column].dt.day\n",
    "    df[\"saleDayofweek\"] = df[date_column].dt.dayofweek\n",
    "    df[\"saleDayofyear\"] = df[date_column].dt.dayofyear\n",
    "\n",
    "    # Drop original saledate column\n",
    "    df.drop(\"saledate\", axis=1, inplace=True)\n",
    "\n",
    "    return df\n",
    "\n",
    "# Preprocess test_df to have same columns as train_df (add the datetime features)\n",
    "test_df = add_datetime_features_to_df(df=test_df)\n",
    "test_df.head()"
   ]
  },
  {
   "cell_type": "markdown",
   "metadata": {},
   "source": [
    "Date features added!\n",
    "\n",
    "Now can we make predictions with our model on the test data? "
   ]
  },
  {
   "cell_type": "code",
   "execution_count": null,
   "metadata": {},
   "outputs": [],
   "source": [
    "# Try to predict with model\n",
    "test_preds = best_model.predict(test_df)"
   ]
  },
  {
   "cell_type": "markdown",
   "metadata": {},
   "source": [
    "Another error...\n",
    "\n",
    "> ValueError: could not convert string to float: 'Low'\n",
    "\n",
    "We can fix this by running our `ordinal_encoder` (that we used to preprocess the training data) on the categorical features in our test DataFrame. "
   ]
  },
  {
   "cell_type": "code",
   "execution_count": null,
   "metadata": {},
   "outputs": [],
   "source": [
    "# Create a copy of the test DataFrame to keep the original intact\n",
    "test_df_preprocessed = test_df.copy()\n",
    "\n",
    "# Transform the categorical features of the test DataFrame into numbers\n",
    "test_df_preprocessed[categorical_features] = ordinal_encoder.transform(test_df_preprocessed[categorical_features].astype(str))\n",
    "test_df_preprocessed.info()"
   ]
  },
  {
   "cell_type": "markdown",
   "metadata": {},
   "source": [
    "Ok, date features created and categorical features turned into numbers, can we make predictions on the test data now?"
   ]
  },
  {
   "cell_type": "code",
   "execution_count": null,
   "metadata": {},
   "outputs": [],
   "source": [
    "# Make predictions on the preprocessed test data\n",
    "test_preds = best_model.predict(test_df_preprocessed)"
   ]
  },
  {
   "cell_type": "markdown",
   "metadata": {},
   "source": [
    "Holy smokes! It worked!\n",
    "\n",
    "Let's check out our `test_preds`."
   ]
  },
  {
   "cell_type": "code",
   "execution_count": null,
   "metadata": {},
   "outputs": [],
   "source": [
    "# Check the first 10 test predictions\n",
    "test_preds[:10]"
   ]
  },
  {
   "cell_type": "markdown",
   "metadata": {},
   "source": [
    "Wonderful, looks like we're getting the price predictions of a given bulldozer.\n",
    "\n",
    "How many predictions are there?"
   ]
  },
  {
   "cell_type": "code",
   "execution_count": null,
   "metadata": {},
   "outputs": [],
   "source": [
    "# Check number of test predictions\n",
    "test_preds.shape, test_df.shape"
   ]
  },
  {
   "cell_type": "markdown",
   "metadata": {},
   "source": [
    "Perfect, looks like theres one prediction per sample in the test DataFrame.\n",
    "\n",
    "Now how would we submit our predictions to Kaggle?\n",
    "\n",
    "Well, when looking at the [Kaggle submission requirements](https://www.kaggle.com/c/bluebook-for-bulldozers/overview/evaluation), we see that if we wanted to make a submission, the data is required to be in a certain format. \n",
    "\n",
    "Namely, a DataFrame containing the `SalesID` and the predicted `SalePrice` of the bulldozer.\n",
    "\n",
    "Let's make it."
   ]
  },
  {
   "cell_type": "code",
   "execution_count": null,
   "metadata": {},
   "outputs": [],
   "source": [
    "# Create DataFrame compatible with Kaggle submission requirements\n",
    "pred_df = pd.DataFrame()\n",
    "pred_df[\"SalesID\"] = test_df[\"SalesID\"]\n",
    "pred_df[\"SalePrice\"] = test_preds\n",
    "pred_df.sample(5)"
   ]
  },
  {
   "cell_type": "markdown",
   "metadata": {},
   "source": [
    "Excellent! We've got a `SalePrice` prediction for every `SalesID` in the test DataFrame.\n",
    "\n",
    "Let's save this to CSV so we could upload it or share it with someone else if we had to."
   ]
  },
  {
   "cell_type": "code",
   "execution_count": null,
   "metadata": {},
   "outputs": [],
   "source": [
    "# Export test dataset predictions to CSV\n",
    "pred_df.to_csv(\"../data/bluebook-for-bulldozers/predictions.csv\",\n",
    "               index=False)"
   ]
  },
  {
   "cell_type": "markdown",
   "metadata": {},
   "source": [
    "## 8. Making a prediction on a custom sample\n",
    "\n",
    "We've made predictions on the test dataset which contains sale data from May to November 2012.\n",
    "\n",
    "But how does our model go on a more recent bulldozer sale?\n",
    "\n",
    "If we were to find an advertisement on a bulldozer sale, could we use our model on the information in the advertisement to predict the sale price?\n",
    "\n",
    "In other words, how could we use our model on a single custom sample?\n",
    "\n",
    "It's one thing to predict on data that has already been formatted but it's another thing to be able to predict a on a completely new and unseen sample.\n",
    "\n",
    "> **Note:** For predicting on a custom sample, the same rules apply as making predictions on the test dataset. The data you make predictions on should be in the same format that your model was trained on. For example, it should have all the same features and the numerical encodings should be in the same ballpark (e.g. preprocessed by the `ordinal_encoder` we fit to the training set). It's likely that samples you collect from the wild may not be as well formatted as samples in a pre-existing dataset. So it's the job of the machine learning engineer to be able to format/preprocess new samples in the same way a model was trained on.\n",
    "\n",
    "If we're going to make a prediction on a custom sample, it'll need to be in the same format as our other datasets.\n",
    "\n",
    "So let's remind ourselves of the columns/features in our test dataset."
   ]
  },
  {
   "cell_type": "code",
   "execution_count": null,
   "metadata": {},
   "outputs": [],
   "source": [
    "# Get example from test_df\n",
    "test_df_preprocessed_sample = test_df_preprocessed.sample(n=1, random_state=42)\n",
    "\n",
    "# Turn back into original format\n",
    "test_df_unpreprocessed_sample = test_df_preprocessed_sample.copy() \n",
    "test_df_unpreprocessed_sample[categorical_features] = ordinal_encoder.inverse_transform(test_df_unpreprocessed_sample[categorical_features])\n",
    "test_df_unpreprocessed_sample.to_dict(orient=\"records\")"
   ]
  },
  {
   "cell_type": "markdown",
   "metadata": {},
   "source": [
    "Wonderful, so if we're going to make a prediction on a custom sample, we'll need to fill out these details as much as we can.\n",
    "\n",
    "Let's try and make a prediction on the example test sample."
   ]
  },
  {
   "cell_type": "code",
   "execution_count": null,
   "metadata": {},
   "outputs": [],
   "source": [
    "# Make a prediction on the preprocessed test sample\n",
    "best_model.predict(test_df_preprocessed_sample)"
   ]
  },
  {
   "cell_type": "markdown",
   "metadata": {},
   "source": [
    "Nice!\n",
    "\n",
    "We get an output array containing a predicted `SalePrice`.\n",
    "\n",
    "Let's now try it on a custom sample.\n",
    "\n",
    "Again, like all good machine learning cooking shows, I've searched the internet for \"bulldozer sales in America\" and [found a sale from 6th July 2024](https://www.purplewave.com/auction/240606/item/EK8504/2004-Caterpillar-D6R_XL-Crawlers-Crawler_Dozer-Missouri) (I'm writing these materials in mid 2024 so if it's many years in the future and the link doesn't work, check out the screenshot below).\n",
    "\n",
    "| <img src=\"https://github.com/mrdbourke/zero-to-mastery-ml/blob/master/images/structured-data-custom-bulldozer-advertisement.png?raw=true\" alt=\"Image of a 2004 Caterpillar D6R XL dozer from an online auction listing. The dozer is yellow, has an enclosed cab with AC and heat, and a large front blade. Key specs shown include 11,770 hours, a Caterpillar C9 diesel engine, and joystick steering. Tracks are 22 inches wide with single grouser pads. The contract price is $72,600.\" width=750/> | \n",
    "|:--:| \n",
    "| Screenshot of a bulldozer sale advertisement. I took information from this advertisement to create our own custom sample for testing our machine learning model on data from the wild. [Source](https://www.purplewave.com/auction/240606/item/EK8504/2004-Caterpillar-D6R_XL-Crawlers-Crawler_Dozer-Missouri). |\n",
    "\n",
    "I went through the advertisement online and collected as much detail as I could and formatted the dictionary below with all of the related fields.\n",
    "\n",
    "It may not be perfect but data in the real world is rarely perfect.\n",
    "\n",
    "For values I couldn't find or were inconspicuous, I filled them with `np.nan` (or `NaN`). \n",
    "\n",
    "Some values such as `SalesID` were unobtainable because they were part of the original collected dataset, for these I've also used `np.nan`.\n",
    "\n",
    "Also notice how I've already created the extra date features `saleYear`, `saleMonth`, `saleDay` and more by manually breaking down the listed sale date of 6 July 2024."
   ]
  },
  {
   "cell_type": "code",
   "execution_count": null,
   "metadata": {},
   "outputs": [],
   "source": [
    "# Create a dictionary of features and values from an internet-based bulldozer advertisement\n",
    "# See link: https://www.purplewave.com/auction/240606/item/EK8504/2004-Caterpillar-D6R_XL-Crawlers-Crawler_Dozer-Missouri (note: this link is/was valid as of October 2024 but may be invalid in the future)\n",
    "custom_sample = {\n",
    "  \"SalesID\": np.nan,\n",
    "  \"MachineID\": 8504,\n",
    "  \"ModelID\": np.nan,\n",
    "  \"datasource\": np.nan,\n",
    "  \"auctioneerID\": np.nan,\n",
    "  \"YearMade\": 2004,\n",
    "  \"MachineHoursCurrentMeter\": 11770.0,\n",
    "  \"UsageBand\": \"High\",\n",
    "  \"fiModelDesc\": \"D6RXL\",\n",
    "  \"fiBaseModel\": \"D6\",\n",
    "  \"fiSecondaryDesc\": \"XL\",\n",
    "  \"fiModelSeries\": np.nan,\n",
    "  \"fiModelDescriptor\": np.nan,\n",
    "  \"ProductSize\": \"Medium\",\n",
    "  \"fiProductClassDesc\": \"Track Type Tractor, Dozer - 130.0 to 160.0 Horsepower\",\n",
    "  \"state\": \"Missouri\",\n",
    "  \"ProductGroup\": \"TTT\",\n",
    "  \"ProductGroupDesc\": \"Track Type Tractors\",\n",
    "  \"Drive_System\": \"No\",\n",
    "  \"Enclosure\": \"EROPS\",\n",
    "  \"Forks\": \"None or Unspecified\",\n",
    "  \"Pad_Type\": \"Grouser\",\n",
    "  \"Ride_Control\": \"None or Unspecified\",\n",
    "  \"Stick\": \"nan\",\n",
    "  \"Transmission\": \"Powershift\",\n",
    "  \"Turbocharged\": \"None or Unspecified\",\n",
    "  \"Blade_Extension\": \"None or Unspecified\",\n",
    "  \"Blade_Width\": np.nan,\n",
    "  \"Enclosure_Type\": np.nan,\n",
    "  \"Engine_Horsepower\": np.nan,\n",
    "  \"Hydraulics\": np.nan,\n",
    "  \"Pushblock\": \"None or Unspecified\",\n",
    "  \"Ripper\": \"None or Unspecified\",\n",
    "  \"Scarifier\": \"None or Unspecified\",\n",
    "  \"Tip_Control\": \"Tip\",\n",
    "  \"Tire_Size\": np.nan,\n",
    "  \"Coupler\": np.nan,\n",
    "  \"Coupler_System\": np.nan,\n",
    "  \"Grouser_Tracks\": \"Yes\",\n",
    "  \"Hydraulics_Flow\": np.nan,\n",
    "  \"Track_Type\": \"Steel\",\n",
    "  \"Undercarriage_Pad_Width\": \"22 inch\",\n",
    "  \"Stick_Length\": np.nan,\n",
    "  \"Thumb\": np.nan,\n",
    "  \"Pattern_Changer\": np.nan,\n",
    "  \"Grouser_Type\": \"Single\",\n",
    "  \"Backhoe_Mounting\": \"None or Unspecified\",\n",
    "  \"Blade_Type\": \"Semi U\",\n",
    "  \"Travel_Controls\": np.nan,\n",
    "  \"Differential_Type\": np.nan,\n",
    "  \"Steering_Controls\": \"Command Control\",\n",
    "  \"saleYear\": 2024,\n",
    "  \"saleMonth\": 6,\n",
    "  \"saleDay\": 7,\n",
    "  \"saleDayofweek\": 5,\n",
    "  \"saleDayofyear\": 159\n",
    "}"
   ]
  },
  {
   "cell_type": "markdown",
   "metadata": {},
   "source": [
    "Now we've got a single custom sample in the form of a dictionary, we can turn it into a DataFrame."
   ]
  },
  {
   "cell_type": "code",
   "execution_count": null,
   "metadata": {},
   "outputs": [],
   "source": [
    "# Turn single sample in a DataFrame\n",
    "custom_sample_df = pd.DataFrame(custom_sample, index=[0])\n",
    "custom_sample_df.head()"
   ]
  },
  {
   "cell_type": "markdown",
   "metadata": {},
   "source": [
    "And of course, we can preprocess the categoricial features using our `ordinal_encoder` (we use the same instance of `OrdinalEncoder` as we trained on the training dataset)."
   ]
  },
  {
   "cell_type": "code",
   "execution_count": null,
   "metadata": {},
   "outputs": [],
   "source": [
    "# Transform the categorical features of the custom sample\n",
    "custom_sample_df[categorical_features] = ordinal_encoder.transform(custom_sample_df[categorical_features].astype(str))\n",
    "custom_sample_df"
   ]
  },
  {
   "cell_type": "markdown",
   "metadata": {},
   "source": [
    "Custom sample preprocessed, let's make a prediction!"
   ]
  },
  {
   "cell_type": "code",
   "execution_count": null,
   "metadata": {},
   "outputs": [],
   "source": [
    "# Make a prediction on the preprocessed custom sample\n",
    "custom_sample_pred = best_model.predict(custom_sample_df)\n",
    "print(f\"[INFO] Predicted sale price of custom sample: ${round(custom_sample_pred[0], 2)}\")"
   ]
  },
  {
   "cell_type": "markdown",
   "metadata": {},
   "source": [
    "Now how close was this to the actual sale price (listed on the advertisement) of $72,600?"
   ]
  },
  {
   "cell_type": "code",
   "execution_count": null,
   "metadata": {},
   "outputs": [],
   "source": [
    "from sklearn.metrics import mean_absolute_error, root_mean_squared_log_error\n",
    "\n",
    "# Evaluate our model versus the actual sale price\n",
    "custom_sample_actual_sale_price = [72600] # this is the sale price listed on the advertisement\n",
    "\n",
    "print(f\"[INFO] Model MAE on custom sample: {mean_absolute_error(y_pred=custom_sample_pred, y_true=custom_sample_actual_sale_price)}\")\n",
    "print(f\"[INFO] Model RMSLE on custom sample: {root_mean_squared_log_error(y_pred=custom_sample_pred, y_true=custom_sample_actual_sale_price)}\")"
   ]
  },
  {
   "cell_type": "markdown",
   "metadata": {},
   "source": [
    "Woah!\n",
    "\n",
    "We get a quite high MAE value, however, it looks like our model's RMSLE performance on the custom sample was even better than the `best_model` on the validation dataset.\n",
    "\n",
    "Not too bad for a model trained on sales data over 12 years older than our custom sample's sale date.\n",
    "\n",
    "> **Note:** In practice, to make this process easier, rather than manually typing out all of the feature values by hand, you might want to create an application capable of ingesting these values in a nice user interface. To create such machine learning applications, I'd practice by checking out [Streamlit](https://streamlit.io/) or [Gradio](https://www.gradio.app/)."
   ]
  },
  {
   "cell_type": "markdown",
   "metadata": {},
   "source": [
    "## 9. Finding the most important predictive features\n",
    "\n",
    "Since we've built a model which is able to make predictions, the people you share these predictions with (or yourself) might be curious of what parts of the data led to these predictions.\n",
    "\n",
    "This is where **feature importance** comes in. \n",
    "\n",
    "Feature importance seeks to figure out which different attributes of the data were most important when it comes to predicting the **target variable**.\n",
    "\n",
    "In our case, after our model learned the patterns in the data, which bulldozer sale attributes were most important for predicting its overall sale price?\n",
    "\n",
    "We can do this for our `sklearn.ensemble.RandomForestRegressor` instance using the [`feature_importances_`](https://scikit-learn.org/stable/modules/generated/sklearn.ensemble.RandomForestRegressor.html#sklearn.ensemble.RandomForestRegressor.feature_importances_) attribute.\n",
    "\n",
    "Let's check it out."
   ]
  },
  {
   "cell_type": "code",
   "execution_count": null,
   "metadata": {},
   "outputs": [],
   "source": [
    "# Find feature importance of our best model\n",
    "best_model_feature_importances = best_model.feature_importances_\n",
    "best_model_feature_importances"
   ]
  },
  {
   "cell_type": "markdown",
   "metadata": {},
   "source": [
    "Woah, looks like we get one value per feature in our dataset."
   ]
  },
  {
   "cell_type": "code",
   "execution_count": null,
   "metadata": {},
   "outputs": [],
   "source": [
    "print(f\"[INFO] Number of feature importance values: {best_model_feature_importances.shape[0]}\") \n",
    "print(f\"[INFO] Number of features in training dataset: {X_train_preprocessed.shape[1]}\")"
   ]
  },
  {
   "cell_type": "markdown",
   "metadata": {},
   "source": [
    "We can inspect these further by turning them into a DataFrame.\n",
    "\n",
    "We'll sort it descending order so we can see which feature our model is assigning the highest value."
   ]
  },
  {
   "cell_type": "code",
   "execution_count": null,
   "metadata": {},
   "outputs": [],
   "source": [
    "# Create feature importance DataFrame\n",
    "column_names = test_df.columns\n",
    "feature_importance_df = pd.DataFrame({\"feature_names\": column_names,\n",
    "                                      \"feature_importance\": best_model_feature_importances}).sort_values(by=\"feature_importance\",\n",
    "                                                                                                         ascending=False)\n",
    "feature_importance_df.head()"
   ]
  },
  {
   "cell_type": "markdown",
   "metadata": {},
   "source": [
    "Hmmm... looks like `YearMade` may be contributing the most value in the model's eyes.\n",
    "\n",
    "How about we turn our DataFrame into a plot to compare values?"
   ]
  },
  {
   "cell_type": "code",
   "execution_count": null,
   "metadata": {},
   "outputs": [],
   "source": [
    "# Plot the top feature importance values\n",
    "top_n = 20\n",
    "plt.figure(figsize=(10, 5))\n",
    "plt.barh(y=feature_importance_df[\"feature_names\"][:top_n], # Plot the top_n feature importance values\n",
    "         width=feature_importance_df[\"feature_importance\"][:top_n])\n",
    "plt.title(f\"Top {top_n} Feature Importance Values for Best RandomForestRegressor Model\")\n",
    "plt.xlabel(\"Feature importance value\")\n",
    "plt.ylabel(\"Feature name\")\n",
    "plt.gca().invert_yaxis();"
   ]
  },
  {
   "cell_type": "markdown",
   "metadata": {},
   "source": [
    "Ok, looks like the top 4 features contributing to our model's predictions are `YearMade`, `ProductSize`, `Enclosure` and `saleYear`.\n",
    "\n",
    "Referring to the original [data dictionary](https://docs.google.com/spreadsheets/d/18ly-bLR8sbDJLITkWG7ozKm8l3RyieQ2Fpgix-beSYI/edit?usp=sharing), do these values make sense to be contributing the most to the model?\n",
    "\n",
    "* `YearMade` - Year of manufacture of the machine.\n",
    "* `ProductSize` - Size of the bulldozer.\n",
    "* `Enclosure` - Type of bulldozer enclosure (e.g. OROPS = Open Rollover Protective Structures, EROPS = Enclosed Rollover Protective Structures).\n",
    "* `saleYear` - The year the bulldozer was sold (this is one of our engineered features from `saledate`).\n",
    "\n",
    "Now I've never sold a bulldozer but reading about each of these values seems to make sense that they would contribute significantly to the sale price.\n",
    "\n",
    "I know when I've bought cars in the past, the year that is was made was an important part of my decision. \n",
    "\n",
    "And it also makes sense that `ProductSize` be an important feature when deciding on the price of a bulldozer.\n",
    "\n",
    "Let's check out the unique values for `ProductSize` and `Enclosure`.\n"
   ]
  },
  {
   "cell_type": "code",
   "execution_count": null,
   "metadata": {},
   "outputs": [],
   "source": [
    "print(f\"[INFO] Unique ProductSize values: {train_df['ProductSize'].unique()}\")\n",
    "print(f\"[INFO] Unique Enclosure values: {train_df['Enclosure'].unique()}\")"
   ]
  },
  {
   "cell_type": "markdown",
   "metadata": {},
   "source": [
    "My guess is that a bulldozer with a `ProductSize` of `'Mini'` would sell for less than a bulldozer with a size of `'Large'`.\n",
    "\n",
    "We could investigate this further in an extension to model driven data exploratory analysis or we could take this information to a colleague or client to discuss further.\n",
    "\n",
    "Either way, we've now got a machine learning model capable of predicting the sale price of bulldozers given their features/attributes!\n",
    "\n",
    "That's a huuuuuuge effort!\n",
    "\n",
    "And you should be very proud of yourself for making it this far."
   ]
  },
  {
   "cell_type": "markdown",
   "metadata": {},
   "source": [
    "## Summary\n",
    "\n",
    "We've covered a lot of ground.\n",
    "\n",
    "But there are some main takeaways to go over.\n",
    "\n",
    "* **Every machine learning problem is different** - Since machine learning is such a widespread technology, it can be used for a multitude of different problems. In saying this, there will often be many different ways to approach a problem. In this example, we've focused on predicting a number, which is a regression problem. And since our data had a time component, it could also be considered a time series problem.\n",
    "* **The machine learner's motto: Experiment, experiment, experiment!** - Since there are many different ways to approach machine learning problems, one of the best habits you can develop is an experimental mindset. That means not being afraid to try new things over and over. Because the more things you try, the quicker you can figure what doesn't work and the quicker you can start to move towards what does.\n",
    "* **Always keep the test set separate** - If you can't evaluate your model on unseen data, how would you know how it will perform in the real world on future unseen data? Of course, using a test set isn't a perfect replica of the real world but if it's done right, it can give you a good idea. Because evaluating a model is just as important as training a model.\n",
    "* **If you've trained a model on a data in a certain format, you'll have to make predictions in the same format** - Any preprocessing you do to the training dataset, you'll have to do to the validation, test and custom data. Any computed values should happen on the training set only and then be used to update any subsequent datasets."
   ]
  },
  {
   "cell_type": "markdown",
   "metadata": {},
   "source": [
    "## Exercises\n",
    "\n",
    "1. Fill the missing values in the numeric columns with the median using Scikit-Learn and see if that helps our best model's performance (hint: see [`sklearn.impute.SimpleImputer`](https://scikit-learn.org/stable/modules/generated/sklearn.impute.SimpleImputer.html#sklearn.impute.SimpleImputer) for more).\n",
    "2. Try putting multiple steps together (e.g. preprocessing -> modelling) with Scikit-Learn's [`sklearn.pipeline.Pipeline`](https://scikit-learn.org/stable/modules/generated/sklearn.pipeline.Pipeline.html) features. \n",
    "3. Try using another regression model/estimator on our preprocessed dataset and see how it goes. See the [Scikit-Learn machine learning map](https://scikit-learn.org/stable/machine_learning_map.html) for potential model options.\n",
    "4. Try replacing the `sklearn.preprocessing.OrdinalEncoder` we used for the categorical variables with `sklearn.preprocessing.OneHotEncoder` (you may even want to do this within a pipeline) with the `sklearn.ensemble.RandomForestRegressor` model and see how it performs. Which is better for our specific dataset? "
   ]
  },
  {
   "cell_type": "markdown",
   "metadata": {},
   "source": [
    "## Extra-curriculum\n",
    "\n",
    "The following resources are suggested extra reading and activities to add backing to the materials we've covered in this project.\n",
    "\n",
    "Reading documentation and knowing where to find information is one of the best skills you can develop as an engineer.\n",
    "\n",
    "* Read the pandas [IO tools documentation page](https://pandas.pydata.org/docs/user_guide/io.html#) for an idea of all the possible ways to get data in and out of pandas.\n",
    "* See all of the [available datatypes in the pandas user guide](https://pandas.pydata.org/docs/user_guide/basics.html#dtypes) (knowing what type your data is in can help prevent a lot of future errors).\n",
    "* Read the Scikit-Learn [dataset transformations](https://scikit-learn.org/stable/data_transforms.html) and [data preprocessing guide](https://scikit-learn.org/stable/modules/preprocessing.html) for an overview of all the different ways you can preprocess and transform data. \n",
    "* For more on saving and loading model objects with Scikit-Learn, see the documentation on [model persistence](https://scikit-learn.org/stable/model_persistence.html).\n",
    "* For more on the importance of creating good validation and test sets, I'd recommend reading [How (and why) to create a good validation set](https://www.fast.ai/2017/11/13/validation-sets/) by Rachel Thomas as well as [The importance of a test set](https://www.learnml.io/posts/the-importance-of-a-test-set/) by Daniel Bourke.\n",
    "* We've covered a handful of models in the Scikit-Learn library, however, there are some other ML models which are worth exploring such as [CatBoost](https://catboost.ai/) and [XGBoost](https://xgboost.ai/). Both of these models can handle missing values and are often touted as some of the most performant ML models on the market. A good extension would be to try get one of them working on our bulldozer data.\n",
    "    * Bonus: You can also see a [list of models in Scikit-Learn which can handle missing/NaN values](https://scikit-learn.org/stable/modules/impute.html#estimators-that-handle-nan-values).   "
   ]
  },
  {
   "cell_type": "markdown",
   "metadata": {},
   "source": [
    "## Example Exercise Solutions\n",
    "\n",
    "The following are examples of how to solve the above exercises."
   ]
  },
  {
   "cell_type": "markdown",
   "metadata": {},
   "source": [
    "### 1. Fill the missing values in the numeric columns with the median using Scikit-Learn and see if that helps our best model's performance"
   ]
  },
  {
   "cell_type": "code",
   "execution_count": null,
   "metadata": {},
   "outputs": [],
   "source": [
    "from sklearn.impute import SimpleImputer\n",
    "from sklearn.preprocessing import OrdinalEncoder\n",
    "from sklearn.metrics import mean_absolute_error, root_mean_squared_log_error\n",
    "from sklearn.ensemble import RandomForestRegressor\n",
    "\n",
    "# Import train samples (making sure to parse dates and then sort by them)\n",
    "train_df = pd.read_csv(filepath_or_buffer=\"../data/bluebook-for-bulldozers/Train.csv\",\n",
    "                       parse_dates=[\"saledate\"],\n",
    "                       low_memory=False).sort_values(by=\"saledate\", ascending=True)\n",
    "\n",
    "# Import validation samples (making sure to parse dates and then sort by them)\n",
    "valid_df = pd.read_csv(filepath_or_buffer=\"../data/bluebook-for-bulldozers/Valid.csv\",\n",
    "                       parse_dates=[\"saledate\"])\n",
    "\n",
    "# The ValidSolution.csv contains the SalePrice values for the samples in Valid.csv\n",
    "valid_solution = pd.read_csv(filepath_or_buffer=\"../data/bluebook-for-bulldozers/ValidSolution.csv\")\n",
    "\n",
    "# Map valid_solution to valid_df\n",
    "valid_df[\"SalePrice\"] = valid_df[\"SalesID\"].map(valid_solution.set_index(\"SalesID\")[\"SalePrice\"])\n",
    "\n",
    "# Make sure valid_df is sorted by saledate still\n",
    "valid_df = valid_df.sort_values(\"saledate\", ascending=True).reset_index(drop=True)\n",
    "\n",
    "# How many samples are in each DataFrame?\n",
    "print(f\"[INFO] Number of samples in training DataFrame: {len(train_df)}\")\n",
    "print(f\"[INFO] Number of samples in validation DataFrame: {len(valid_df)}\")\n",
    "\n",
    "# Make a function to add date columns\n",
    "def add_datetime_features_to_df(df, date_column=\"saledate\"):\n",
    "    # Add datetime parameters for saledate\n",
    "    df[\"saleYear\"] = df[date_column].dt.year\n",
    "    df[\"saleMonth\"] = df[date_column].dt.month\n",
    "    df[\"saleDay\"] = df[date_column].dt.day\n",
    "    df[\"saleDayofweek\"] = df[date_column].dt.dayofweek\n",
    "    df[\"saleDayofyear\"] = df[date_column].dt.dayofyear\n",
    "\n",
    "    # Drop original saledate column\n",
    "    df.drop(\"saledate\", axis=1, inplace=True)\n",
    "\n",
    "    return df\n",
    "\n",
    "# Add datetime features to DataFrames\n",
    "train_df = add_datetime_features_to_df(df=train_df)\n",
    "valid_df = add_datetime_features_to_df(df=valid_df)\n",
    "\n",
    "# Split training data into features and labels\n",
    "X_train = train_df.drop(\"SalePrice\", axis=1)\n",
    "y_train = train_df[\"SalePrice\"]\n",
    "\n",
    "# Split validation data into features and labels\n",
    "X_valid = valid_df.drop(\"SalePrice\", axis=1)\n",
    "y_valid = valid_df[\"SalePrice\"]\n",
    "\n",
    "# Define numerical and categorical features\n",
    "numeric_features = [label for label, content in X_train.items() if pd.api.types.is_numeric_dtype(content)]\n",
    "categorical_features = [label for label, content in X_train.items() if not pd.api.types.is_numeric_dtype(content)]\n",
    "\n",
    "### Filling missing values ### \n",
    "\n",
    "# Create an ordinal encoder (turns category items into numeric representation)\n",
    "ordinal_encoder = OrdinalEncoder(categories=\"auto\",\n",
    "                                 handle_unknown=\"use_encoded_value\",\n",
    "                                 unknown_value=np.nan,\n",
    "                                 encoded_missing_value=np.nan) # treat unknown categories as np.nan (or None)\n",
    "\n",
    "# Create a simple imputer to fill missing values with median\n",
    "simple_imputer_median = SimpleImputer(missing_values=np.nan,\n",
    "                                      strategy=\"median\")\n",
    "\n",
    "# Fit and transform the categorical and numerical columns of X_train\n",
    "X_train_preprocessed = X_train.copy() # make copies of the oringal DataFrames so we can keep the original values in tact and view them later\n",
    "X_train_preprocessed[categorical_features] = ordinal_encoder.fit_transform(X_train_preprocessed[categorical_features].astype(str)) # OrdinalEncoder expects all values as the same type (e.g. string or numeric only)\n",
    "X_train_preprocessed[numerical_features] = simple_imputer_median.fit_transform(X_train_preprocessed[numerical_features])\n",
    "\n",
    "# Transform the categorical and numerical columns of X_valid \n",
    "X_valid_preprocessed = X_valid.copy()\n",
    "X_valid_preprocessed[categorical_features] = ordinal_encoder.transform(X_valid_preprocessed[categorical_features].astype(str)) # only use `transform` on the validation data\n",
    "X_valid_preprocessed[numerical_features] = simple_imputer_median.transform(X_valid_preprocessed[numerical_features])\n",
    "\n",
    "# Create function to evaluate our model\n",
    "def show_scores(model, \n",
    "                train_features=X_train_preprocessed,\n",
    "                train_labels=y_train,\n",
    "                valid_features=X_valid_preprocessed,\n",
    "                valid_labels=y_valid):\n",
    "    \n",
    "    # Make predictions on train and validation features\n",
    "    train_preds = model.predict(X=train_features)\n",
    "    val_preds = model.predict(X=valid_features)\n",
    "\n",
    "    # Create a scores dictionary of different evaluation metrics\n",
    "    scores = {\"Training MAE\": mean_absolute_error(y_true=train_labels, \n",
    "                                                  y_pred=train_preds),\n",
    "              \"Valid MAE\": mean_absolute_error(y_true=valid_labels, \n",
    "                                               y_pred=val_preds),\n",
    "              \"Training RMSLE\": root_mean_squared_log_error(y_true=train_labels, \n",
    "                                                            y_pred=train_preds),\n",
    "              \"Valid RMSLE\": root_mean_squared_log_error(y_true=valid_labels, \n",
    "                                                         y_pred=val_preds),\n",
    "              \"Training R^2\": model.score(X=train_features, \n",
    "                                          y=train_labels),\n",
    "              \"Valid R^2\": model.score(X=valid_features, \n",
    "                                       y=valid_labels)}\n",
    "    return scores\n",
    "\n",
    "# Instantiate a model with best hyperparameters \n",
    "ideal_model_2 = RandomForestRegressor(n_estimators=90,\n",
    "                                      max_depth=None,\n",
    "                                      min_samples_leaf=1,\n",
    "                                      min_samples_split=5,\n",
    "                                      max_features=0.5,\n",
    "                                      n_jobs=-1,\n",
    "                                      max_samples=None)\n",
    "\n",
    "# Fit a model to the preprocessed data\n",
    "ideal_model_2.fit(X=X_train_preprocessed, \n",
    "                  y=y_train)\n",
    "\n",
    "# Evalute the model\n",
    "ideal_model_2_scores = show_scores(model=ideal_model_2)\n",
    "ideal_model_2_scores"
   ]
  },
  {
   "cell_type": "markdown",
   "metadata": {},
   "source": [
    "Looks like filling the missing numeric values made our `ideal_model_2` perform slightly worse than our original `ideal_model`.\n",
    "\n",
    "`ideal_model_2` had a validation RMSLE of `0.24697812443315573` where as `ideal_model` had a validation RMSLE of `0.24654150224930685`."
   ]
  },
  {
   "cell_type": "markdown",
   "metadata": {},
   "source": [
    "### 2. Try putting multiple steps together (e.g. preprocessing -> modelling) with Scikit-Learn's `sklearn.pipeline.Pipeline`"
   ]
  },
  {
   "cell_type": "code",
   "execution_count": null,
   "metadata": {},
   "outputs": [],
   "source": [
    "import pandas as pd\n",
    "import numpy as np\n",
    "\n",
    "from sklearn.compose import ColumnTransformer\n",
    "from sklearn.ensemble import RandomForestRegressor\n",
    "from sklearn.impute import SimpleImputer\n",
    "from sklearn.metrics import mean_absolute_error, root_mean_squared_log_error\n",
    "from sklearn.preprocessing import OrdinalEncoder, FunctionTransformer\n",
    "from sklearn.pipeline import Pipeline\n",
    "\n",
    "\n",
    "# Import and prepare data\n",
    "train_df = pd.read_csv(\"../data/bluebook-for-bulldozers/Train.csv\",\n",
    "                       parse_dates=[\"saledate\"],\n",
    "                       low_memory=False).sort_values(by=\"saledate\", ascending=True)\n",
    "\n",
    "valid_df = pd.read_csv(\"../data/bluebook-for-bulldozers/Valid.csv\",\n",
    "                       parse_dates=[\"saledate\"])\n",
    "\n",
    "valid_solution = pd.read_csv(\"../data/bluebook-for-bulldozers/ValidSolution.csv\")\n",
    "valid_df[\"SalePrice\"] = valid_df[\"SalesID\"].map(valid_solution.set_index(\"SalesID\")[\"SalePrice\"])\n",
    "valid_df = valid_df.sort_values(\"saledate\", ascending=True).reset_index(drop=True)\n",
    "\n",
    "# Add datetime features\n",
    "def add_datetime_features_to_df(df, date_column=\"saledate\"):\n",
    "    df = df.copy()\n",
    "    df[\"saleYear\"] = df[date_column].dt.year\n",
    "    df[\"saleMonth\"] = df[date_column].dt.month\n",
    "    df[\"saleDay\"] = df[date_column].dt.day\n",
    "    df[\"saleDayofweek\"] = df[date_column].dt.dayofweek\n",
    "    df[\"saleDayofyear\"] = df[date_column].dt.dayofyear\n",
    "    return df.drop(date_column, axis=1)\n",
    "\n",
    "# Apply datetime features\n",
    "train_df = add_datetime_features_to_df(train_df)\n",
    "valid_df = add_datetime_features_to_df(valid_df)\n",
    "\n",
    "# Split data into features and labels\n",
    "X_train = train_df.drop(\"SalePrice\", axis=1)\n",
    "y_train = train_df[\"SalePrice\"]\n",
    "X_valid = valid_df.drop(\"SalePrice\", axis=1)\n",
    "y_valid = valid_df[\"SalePrice\"]\n",
    "\n",
    "# Define feature types\n",
    "numeric_features = [label for label, content in X_train.items() \n",
    "                   if pd.api.types.is_numeric_dtype(content)]\n",
    "categorical_features = [label for label, content in X_train.items() \n",
    "                       if not pd.api.types.is_numeric_dtype(content)]\n",
    "\n",
    "# Create preprocessing steps\n",
    "numeric_transformer = Pipeline(steps=[\n",
    "    ('imputer', SimpleImputer(strategy='median'))\n",
    "])\n",
    "\n",
    "categorical_transformer = Pipeline(steps=[\n",
    "    ('string_converter', FunctionTransformer(lambda x: x.astype(str))), # convert values to string\n",
    "    ('ordinal', OrdinalEncoder(handle_unknown='use_encoded_value',\n",
    "                              unknown_value=np.nan,\n",
    "                              encoded_missing_value=np.nan)),\n",
    "])\n",
    "\n",
    "# Create preprocessor using ColumnTransformer\n",
    "preprocessor = ColumnTransformer(\n",
    "    transformers=[\n",
    "        ('numerical_transforms', numeric_transformer, numeric_features),\n",
    "        ('categorical_transforms', categorical_transformer, categorical_features)\n",
    "    ])\n",
    "\n",
    "# Create full pipeline\n",
    "model_pipeline = Pipeline([\n",
    "    ('preprocessor', preprocessor),\n",
    "    ('regressor', RandomForestRegressor(\n",
    "        n_estimators=90,\n",
    "        max_depth=None,\n",
    "        min_samples_leaf=1,\n",
    "        min_samples_split=5,\n",
    "        max_features=0.5,\n",
    "        n_jobs=-1,\n",
    "        max_samples=None\n",
    "    ))\n",
    "])\n",
    "\n",
    "# Function to evaluate the pipeline\n",
    "def evaluate_pipeline(pipeline, X_train, y_train, X_valid, y_valid):\n",
    "    # Make predictions\n",
    "    train_preds = pipeline.predict(X_train)\n",
    "    valid_preds = pipeline.predict(X_valid)\n",
    "    \n",
    "    # Calculate scores\n",
    "    scores = {\n",
    "        \"Training MAE\": mean_absolute_error(y_train, train_preds),\n",
    "        \"Valid MAE\": mean_absolute_error(y_valid, valid_preds),\n",
    "        \"Training RMSLE\": root_mean_squared_log_error(y_train, train_preds),\n",
    "        \"Valid RMSLE\": root_mean_squared_log_error(y_valid, valid_preds),\n",
    "        \"Training R^2\": pipeline.score(X_train, y_train),\n",
    "        \"Valid R^2\": pipeline.score(X_valid, y_valid)\n",
    "    }\n",
    "    return scores\n",
    "\n",
    "# Fit and evaluate pipeline\n",
    "model_pipeline.fit(X_train, y_train)\n",
    "pipeline_scores = evaluate_pipeline(model_pipeline, X_train, y_train, X_valid, y_valid)\n",
    "print(\"\\nPipeline Scores:\")\n",
    "pipeline_scores"
   ]
  },
  {
   "cell_type": "markdown",
   "metadata": {},
   "source": [
    "### 3. Try using another regression model/estimator on our preprocessed dataset and see how it goes\n",
    "\n",
    "Going to use [`sklearn.linear_model.HistGradientBoostingRegressor`](https://scikit-learn.org/stable/modules/generated/sklearn.ensemble.HistGradientBoostingRegressor.html#histgradientboostingregressor)."
   ]
  },
  {
   "cell_type": "code",
   "execution_count": null,
   "metadata": {},
   "outputs": [],
   "source": [
    "import pandas as pd\n",
    "import numpy as np\n",
    "\n",
    "from sklearn.compose import ColumnTransformer\n",
    "from sklearn.ensemble import HistGradientBoostingRegressor\n",
    "from sklearn.impute import SimpleImputer\n",
    "from sklearn.metrics import mean_absolute_error, root_mean_squared_log_error\n",
    "from sklearn.preprocessing import OrdinalEncoder, FunctionTransformer, StandardScaler\n",
    "from sklearn.pipeline import Pipeline\n",
    "\n",
    "# Import and prepare data\n",
    "train_df = pd.read_csv(\"../data/bluebook-for-bulldozers/Train.csv\",\n",
    "                       parse_dates=[\"saledate\"],\n",
    "                       low_memory=False).sort_values(by=\"saledate\", ascending=True)\n",
    "\n",
    "valid_df = pd.read_csv(\"../data/bluebook-for-bulldozers/Valid.csv\",\n",
    "                       parse_dates=[\"saledate\"])\n",
    "\n",
    "valid_solution = pd.read_csv(\"../data/bluebook-for-bulldozers/ValidSolution.csv\")\n",
    "valid_df[\"SalePrice\"] = valid_df[\"SalesID\"].map(valid_solution.set_index(\"SalesID\")[\"SalePrice\"])\n",
    "valid_df = valid_df.sort_values(\"saledate\", ascending=True).reset_index(drop=True)\n",
    "\n",
    "# Add datetime features\n",
    "def add_datetime_features_to_df(df, date_column=\"saledate\"):\n",
    "    df = df.copy()\n",
    "    df[\"saleYear\"] = df[date_column].dt.year\n",
    "    df[\"saleMonth\"] = df[date_column].dt.month\n",
    "    df[\"saleDay\"] = df[date_column].dt.day\n",
    "    df[\"saleDayofweek\"] = df[date_column].dt.dayofweek\n",
    "    df[\"saleDayofyear\"] = df[date_column].dt.dayofyear\n",
    "    return df.drop(date_column, axis=1)\n",
    "\n",
    "# Apply datetime features\n",
    "train_df = add_datetime_features_to_df(train_df)\n",
    "valid_df = add_datetime_features_to_df(valid_df)\n",
    "\n",
    "# Split data into features and labels\n",
    "X_train = train_df.drop(\"SalePrice\", axis=1)\n",
    "y_train = train_df[\"SalePrice\"]\n",
    "X_valid = valid_df.drop(\"SalePrice\", axis=1)\n",
    "y_valid = valid_df[\"SalePrice\"]\n",
    "\n",
    "# Define feature types\n",
    "numeric_features = [label for label, content in X_train.items() \n",
    "                   if pd.api.types.is_numeric_dtype(content)]\n",
    "categorical_features = [label for label, content in X_train.items() \n",
    "                       if not pd.api.types.is_numeric_dtype(content)]\n",
    "\n",
    "# Create preprocessing steps for different types of values\n",
    "numeric_transformer = Pipeline(steps=[\n",
    "    ('imputer', SimpleImputer(strategy='median')),\n",
    "])\n",
    "\n",
    "categorical_transformer = Pipeline(steps=[\n",
    "    ('string_converter', FunctionTransformer(lambda x: x.astype(str))), # convert values to string\n",
    "    ('ordinal', OrdinalEncoder(categories='auto',\n",
    "                               handle_unknown='use_encoded_value',\n",
    "                               unknown_value=np.nan,\n",
    "                               encoded_missing_value=np.nan)), \n",
    "])\n",
    "\n",
    "# Create preprocessor using ColumnTransformer\n",
    "preprocessor = ColumnTransformer(\n",
    "    transformers=[\n",
    "        ('numerical_transforms', numeric_transformer, numeric_features),\n",
    "        ('categorical_transforms', categorical_transformer, categorical_features)\n",
    "    ])\n",
    "\n",
    "# Create full pipeline\n",
    "model_pipeline_hist_gradient_boosting_regressor = Pipeline([\n",
    "    ('preprocessor', preprocessor),\n",
    "    ('regressor', HistGradientBoostingRegressor()) # Change model to HistGradientBoostingRegressor\n",
    "])\n",
    "\n",
    "# Function to evaluate the pipeline\n",
    "def evaluate_pipeline(pipeline, X_train, y_train, X_valid, y_valid):\n",
    "    # Make predictions\n",
    "    train_preds = pipeline.predict(X_train)\n",
    "    valid_preds = pipeline.predict(X_valid)\n",
    "    \n",
    "    # Calculate scores\n",
    "    scores = {\n",
    "        \"Training MAE\": mean_absolute_error(y_train, train_preds),\n",
    "        \"Valid MAE\": mean_absolute_error(y_valid, valid_preds),\n",
    "        \"Training RMSLE\": root_mean_squared_log_error(y_train, train_preds),\n",
    "        \"Valid RMSLE\": root_mean_squared_log_error(y_valid, valid_preds),\n",
    "        \"Training R^2\": pipeline.score(X_train, y_train),\n",
    "        \"Valid R^2\": pipeline.score(X_valid, y_valid)\n",
    "    }\n",
    "    return scores\n",
    "\n",
    "# Fit and evaluate pipeline\n",
    "print(f\"[INFO] Fitting HistGradientBoostingRegressor model with pipeline...\")\n",
    "model_pipeline_hist_gradient_boosting_regressor.fit(X_train, y_train)\n",
    "print(f\"[INFO] Evaluating HistGradientBoostingRegressor model with pipeline...\")\n",
    "pipeline_hist_scores = evaluate_pipeline(model_pipeline_hist_gradient_boosting_regressor, X_train, y_train, X_valid, y_valid)\n",
    "print(\"\\nPipeline HistGradientBoostingRegressor Scores:\")\n",
    "pipeline_hist_scores"
   ]
  },
  {
   "cell_type": "markdown",
   "metadata": {},
   "source": [
    "### 4. Try replacing the `sklearn.preprocessing.OrdinalEncoder` we used for the categorical variables with `sklearn.preprocessing.OneHotEncoder`\n",
    "\n",
    "> **Note:** This may take quite a long time depending on your machine. For example, on my MacBook Pro M1 Pro it took ~10 minutes with `n_estimators=10` (9x lower than what we used for our `best_model`). This is because using `sklearn.preprocessing.OneHotEncoder` adds many more features to our dataset (each feature gets turned into an array of 0's and 1's for each unique value). And the more features, the longer it takes to compute and find patterns between them."
   ]
  },
  {
   "cell_type": "code",
   "execution_count": null,
   "metadata": {},
   "outputs": [],
   "source": [
    "%%time\n",
    "\n",
    "import pandas as pd\n",
    "import numpy as np\n",
    "from sklearn.impute import SimpleImputer\n",
    "from sklearn.preprocessing import OneHotEncoder\n",
    "from sklearn.ensemble import RandomForestRegressor\n",
    "from sklearn.metrics import mean_absolute_error, root_mean_squared_log_error\n",
    "from sklearn.pipeline import Pipeline\n",
    "from sklearn.compose import ColumnTransformer\n",
    "from sklearn.preprocessing import FunctionTransformer\n",
    "\n",
    "# Import and prepare data\n",
    "train_df = pd.read_csv(\"../data/bluebook-for-bulldozers/Train.csv\",\n",
    "                       parse_dates=[\"saledate\"],\n",
    "                       low_memory=False).sort_values(by=\"saledate\", ascending=True)\n",
    "\n",
    "valid_df = pd.read_csv(\"../data/bluebook-for-bulldozers/Valid.csv\",\n",
    "                       parse_dates=[\"saledate\"])\n",
    "\n",
    "valid_solution = pd.read_csv(\"../data/bluebook-for-bulldozers/ValidSolution.csv\")\n",
    "valid_df[\"SalePrice\"] = valid_df[\"SalesID\"].map(valid_solution.set_index(\"SalesID\")[\"SalePrice\"])\n",
    "valid_df = valid_df.sort_values(\"saledate\", ascending=True).reset_index(drop=True)\n",
    "\n",
    "# Add datetime features\n",
    "def add_datetime_features_to_df(df, date_column=\"saledate\"):\n",
    "    df = df.copy()\n",
    "    df[\"saleYear\"] = df[date_column].dt.year\n",
    "    df[\"saleMonth\"] = df[date_column].dt.month\n",
    "    df[\"saleDay\"] = df[date_column].dt.day\n",
    "    df[\"saleDayofweek\"] = df[date_column].dt.dayofweek\n",
    "    df[\"saleDayofyear\"] = df[date_column].dt.dayofyear\n",
    "    return df.drop(date_column, axis=1)\n",
    "\n",
    "# Apply datetime features\n",
    "train_df = add_datetime_features_to_df(train_df)\n",
    "valid_df = add_datetime_features_to_df(valid_df)\n",
    "\n",
    "# Split data\n",
    "X_train = train_df.drop(\"SalePrice\", axis=1)\n",
    "y_train = train_df[\"SalePrice\"]\n",
    "X_valid = valid_df.drop(\"SalePrice\", axis=1)\n",
    "y_valid = valid_df[\"SalePrice\"]\n",
    "\n",
    "# Define feature types\n",
    "numeric_features = [label for label, content in X_train.items() \n",
    "                   if pd.api.types.is_numeric_dtype(content)]\n",
    "categorical_features = [label for label, content in X_train.items() \n",
    "                       if not pd.api.types.is_numeric_dtype(content)]\n",
    "\n",
    "# Create preprocessing steps\n",
    "numeric_transformer = Pipeline(steps=[\n",
    "    ('imputer', SimpleImputer(strategy='median'))\n",
    "])\n",
    "\n",
    "categorical_transformer = Pipeline(steps=[\n",
    "    ('string_converter', FunctionTransformer(lambda x: x.astype(str))),\n",
    "    ('imputer', SimpleImputer(strategy='constant', fill_value='missing')), # fill missing values with the term \"missing\"\n",
    "    ('onehot', OneHotEncoder(handle_unknown='ignore', sparse_output=True)) # use OneHotEncoder instead of OrdinalEncoder\n",
    "])\n",
    "\n",
    "# Create preprocessor using ColumnTransformer\n",
    "preprocessor = ColumnTransformer(\n",
    "    transformers=[\n",
    "        ('num', numeric_transformer, numeric_features),\n",
    "        ('cat', categorical_transformer, categorical_features)\n",
    "    ],\n",
    "    verbose_feature_names_out=False  # Simplify feature names\n",
    ")\n",
    "\n",
    "# Create full pipeline\n",
    "model_one_hot_pipeline = Pipeline([\n",
    "    ('preprocessor', preprocessor),\n",
    "    ('regressor', RandomForestRegressor(\n",
    "        n_estimators=10,\n",
    "        max_depth=None,\n",
    "        min_samples_leaf=1,\n",
    "        min_samples_split=5,\n",
    "        max_features=0.5,\n",
    "        n_jobs=-1,\n",
    "        max_samples=None\n",
    "    ))\n",
    "])\n",
    "\n",
    "# Function to evaluate the pipeline\n",
    "def evaluate_pipeline(pipeline, X_train, y_train, X_valid, y_valid):\n",
    "    # Make predictions\n",
    "    train_preds = pipeline.predict(X_train)\n",
    "    valid_preds = pipeline.predict(X_valid)\n",
    "    \n",
    "    # Calculate scores\n",
    "    scores = {\n",
    "        \"Training MAE\": mean_absolute_error(y_train, train_preds),\n",
    "        \"Valid MAE\": mean_absolute_error(y_valid, valid_preds),\n",
    "        \"Training RMSLE\": root_mean_squared_log_error(y_train, train_preds),\n",
    "        \"Valid RMSLE\": root_mean_squared_log_error(y_valid, valid_preds),\n",
    "        \"Training R^2\": pipeline.score(X_train, y_train),\n",
    "        \"Valid R^2\": pipeline.score(X_valid, y_valid)\n",
    "    }\n",
    "    return scores\n",
    "\n",
    "# Fit and evaluate pipeline\n",
    "print(f\"[INFO] Fitting model with one hot encoded values...\")\n",
    "model_one_hot_pipeline.fit(X_train, y_train)\n",
    "print(f\"[INFO] Evaluating model with one hot encoded values...\")\n",
    "pipeline_one_hot_scores = evaluate_pipeline(model_one_hot_pipeline, X_train, y_train, X_valid, y_valid)\n",
    "print(\"[INFO] Pipeline with one hot encoding scores:\")\n",
    "pipeline_one_hot_scores"
   ]
  }
 ],
 "metadata": {
  "kernelspec": {
   "display_name": "Python (Sashi)",
   "language": "python",
   "name": "sashi-env"
  },
  "language_info": {
   "codemirror_mode": {
    "name": "ipython",
    "version": 3
   },
   "file_extension": ".py",
   "mimetype": "text/x-python",
   "name": "python",
   "nbconvert_exporter": "python",
   "pygments_lexer": "ipython3",
   "version": "3.12.4"
  }
 },
 "nbformat": 4,
 "nbformat_minor": 4
}
